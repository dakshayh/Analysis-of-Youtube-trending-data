{
 "cells": [
  {
   "cell_type": "markdown",
   "metadata": {},
   "source": [
    "###  Processing Date Columns\n",
    "We now want to convert our date columns into proper datetime objects for later analysis. These columns include trending date and publish time which we split into publish time (hour and minute) and date. "
   ]
  },
  {
   "cell_type": "code",
   "execution_count": null,
   "metadata": {},
   "outputs": [],
   "source": [
    "df[\"trending_date\"].apply(type).value_counts() #see col type : is a string"
   ]
  },
  {
   "cell_type": "code",
   "execution_count": null,
   "metadata": {},
   "outputs": [],
   "source": [
    "df[\"trending_date\"] = pd.to_datetime(df[\"trending_date\"], format = \"%y.%d.%m\") #convert to date time object with proper format"
   ]
  },
  {
   "cell_type": "code",
   "execution_count": null,
   "metadata": {},
   "outputs": [],
   "source": [
    "df[\"publish_time\"].apply(type).value_counts() #see col type : is a string"
   ]
  },
  {
   "cell_type": "code",
   "execution_count": null,
   "metadata": {},
   "outputs": [],
   "source": [
    "df[\"publish_time\"] = df[\"publish_time\"].str.replace(\"\\.\\d+Z\\Z\",\"\") #remove micro seconds and unwanted Z at end"
   ]
  },
  {
   "cell_type": "code",
   "execution_count": null,
   "metadata": {},
   "outputs": [],
   "source": [
    "df[\"publish_date\"] = df[\"publish_time\"].str.split(\"T\").str[0] #split on 'T' and form two seperate columns -date & time\n",
    "df[\"publish_time\"] = df[\"publish_time\"].str.split(\"T\").str[1]"
   ]
  },
  {
   "cell_type": "code",
   "execution_count": null,
   "metadata": {},
   "outputs": [],
   "source": [
    "df[\"publish_date\"].apply(type).value_counts() #col is a string "
   ]
  },
  {
   "cell_type": "code",
   "execution_count": null,
   "metadata": {},
   "outputs": [],
   "source": [
    "df[\"publish_date\"] = pd.to_datetime(df[\"publish_date\"], format = \"%Y.%m.%d\") #convert to date time object with proper format"
   ]
  },
  {
   "cell_type": "code",
   "execution_count": null,
   "metadata": {},
   "outputs": [],
   "source": [
    "df['publish_time'] = pd.to_datetime(df[\"publish_time\"], format = \"%H:%M:%S\") #convert to date time object with proper format"
   ]
  },
  {
   "cell_type": "code",
   "execution_count": null,
   "metadata": {},
   "outputs": [],
   "source": [
    "df.dtypes #check all col data type again"
   ]
  }
 ],
 "metadata": {
  "kernelspec": {
   "display_name": "Python 3",
   "language": "python",
   "name": "python3"
  },
  "language_info": {
   "codemirror_mode": {
    "name": "ipython",
    "version": 3
   },
   "file_extension": ".py",
   "mimetype": "text/x-python",
   "name": "python",
   "nbconvert_exporter": "python",
   "pygments_lexer": "ipython3",
   "version": "3.7.3"
  }
 },
 "nbformat": 4,
 "nbformat_minor": 2
}
