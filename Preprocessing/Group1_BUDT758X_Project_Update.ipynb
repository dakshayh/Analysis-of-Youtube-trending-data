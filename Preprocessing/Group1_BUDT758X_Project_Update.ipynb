{
 "cells": [
  {
   "cell_type": "markdown",
   "metadata": {},
   "source": [
    "# Project Update: Analysis of YouTube Trending Video Data\n",
    "#### Group 1 Terp Analytica: Akshay Havalgi, Austin Hom, Bekzod Akramov, Shashank Manu Rao, Vivek Ramanathan\n",
    "\n",
    "In this document, we will provide a brief overview of the project, summarize our progress to date, and provide codes we have used in cleaning, preparing, visualizing and analyzing the data. \n",
    "\n",
    "### Section 1: Project Overview (Markdown)\n",
    "\n",
    "In today's age, where most people have access to a variety of electronic devices, more and more people are consuming content using online video services, among which YouTube is the most popular. According to Google, which owns YouTube, over 400 hours of video are uploaded every minute, 100s of millions of hours are watched each day, and billions of users visit YouTube each month. Thus, YouTube provides something of interest for creators, viewers, and advertisers. YouTube videos are monetized through ad revenues, so the more views a video receives, the more ad revenue that can be generated. From the advertiser's point of view, they want to market their product to as wide an audience as possible, so they will want their ads on the most popular videos. Moreover, currently COVID-19 has caused large numbers of people to stay at home, which will undoubtedly cause a spike in the number of daily YouTube visitors.    \n",
    "\n",
    "In our project, we are analyzing data on daily trending YouTube videos. Given YouTube’s large library of videos, it is important to filter videos to different users. YouTube uses a combination of different factors including measuring users interactions (number of views, shares, comments and likes) to determine if a video is trending. These trending videos are then made visible to users so they can see which videos are popular at a given moment. We are looking at what factors make a video become trending and if these factors are different across various countries and categories. We are also exploring why certain videos generate more views, likes and comments. \n",
    "\n",
    "Some of the research questions we are looking at are: \n",
    "- What are common factors among trending videos? \n",
    "- What differences are there between trending videos in different regions (ex between United States, Great Britain and India)?\n",
    "- Are there factors that are generalizable across regions?\n",
    "- Do videos with more likes or more comments get more views?\n",
    "- Can we categorize the videos based on comments and other engagement metrics? \n",
    "- What are the most popular categories among trending videos?\n",
    "- On a given trending day, would there be more dislikes than likes for any video in general?\n",
    "- What time of the day would be the ideal to publish a video to become viral?\n",
    "- Can we make any inferences about viewer preferences based on the analysis of the video data?\n",
    "- What are the implications for advertising and monetization?"
   ]
  },
  {
   "cell_type": "markdown",
   "metadata": {},
   "source": [
    "### Section 2: Milestones and Progress (Markdown)\n",
    "\n",
    "To date, we have been able to accomplish most of the milestones we had planned on up to April 10th. We have been doing our best to mitigate the issues caused by COVID-19 and are using online tools to collaborate as efficiently as possible. For the most part, we are on track to accomplish our plans, as can be seen in the table below. We have started working on the last two tasks listed here and already have some outputs. These tasks are iterative and need to be done repeatedly as our ideas of what we want to analyze evolve and change. In terms of resources needed to accomplish our next steps, we are looking into collaborating our code using Github in order to share our code more efficiently and work more closely together.  \n",
    "\n",
    "| **Task** | **Task Lead** | **Due Date** | **Milestone Met?** |\n",
    "| --- | --- | --- | --- |\n",
    "| Choosing valid relevant data for analysis | Austin | 3/12 | Yes |\n",
    "| Project Proposal | Vivek | 3/13 | Yes |\n",
    "| Importing and merging data | Akshay | 3/21 | Yes |\n",
    "| Data cleaning | Bekzod | 3/24 | Yes |\n",
    "| Data Transformation and Feature Extraction | Shashank | 3/28 | Yes |\n",
    "| Creating sub-datasets for analysis | Austin | 4/1 | Yes |\n",
    "| Text processing  | Akshay | 4/8 | Work in Progress |\n",
    "| Visualizations  | Vivek | 4/15 | Work in Progress |\n"
   ]
  },
  {
   "cell_type": "markdown",
   "metadata": {},
   "source": [
    "### Section 3: Data Acquisition and Cleaning Code (Markdown + Code)\n",
    "\n",
    "We obtained the datasets from Kaggle. The datasets are a result of scraping the most relevant information from videos that are currently trending on YouTube in a specified set of countries.The data includes several months of data on daily trending YouTube videos for USA, Great Britain, Germany, Canada, France, Russia, Mexico, South Korea, Japan and India regions, with up to 200 listed trending videos per day. There is a separate dataset for each country. \n",
    "\n",
    "Data includes the following variables/columns: category, video title, channel title, publish time, tags, views, likes and dislikes, description, and comment count. The category variable varies between regions, and we will find categories for a specific video in its associated JSON. One such file is included for each of the ten regions in the dataset. There is a column metadata for this dataset which provides more specific information about its contents.\n",
    "\n",
    "For now, we have been only examining the datasets for the US, Great Britain and India. We have completed the following tasks to prepare the data for visualization and analyses over the past month:\n",
    "\n",
    "- Choosing valid data for analysis - videos currently trending on YouTube. Multiple datasets pertaining to different regions are imported from Kaggle.\n",
    "- Importing and Merging data - Datasets of various regions are imported into python and joins are created to merge the csv and json files.\n",
    "- Data Cleaning - Check for missing values and duplicate data in our updated dataset\n",
    "- Data Transformation - Impute missing values, rename columns, change data types\n",
    "- Feature Extraction - adding relevant columns for analysis such as like/dislike ratio, difference in publish time vs trending time, and year video published/trending\n",
    "- Indexing, selection, and filtering - subsetting required data for analysis such as only videos in the music category\n"
   ]
  },
  {
   "cell_type": "code",
   "execution_count": 1,
   "metadata": {},
   "outputs": [],
   "source": [
    "import pandas as pd #load all required libraries\n",
    "import numpy as np\n",
    "import seaborn as sns\n",
    "import matplotlib.pyplot as plt\n",
    "%matplotlib inline\n",
    "import datetime as dt \n",
    "from pandas.io.json import json_normalize"
   ]
  },
  {
   "cell_type": "code",
   "execution_count": 2,
   "metadata": {},
   "outputs": [
    {
     "name": "stdout",
     "output_type": "stream",
     "text": [
      "/Users/akshayd/Desktop/Sem_2/Python/Project/youtube-new\n"
     ]
    }
   ],
   "source": [
    "#%cd /Users/akshayd/Desktop/Sem_2/Python/Project/youtube-new/"
   ]
  },
  {
   "cell_type": "code",
   "execution_count": 3,
   "metadata": {},
   "outputs": [],
   "source": [
    "youtubeUS = pd.read_csv(\"USvideos.csv\") #load US data using raw string"
   ]
  },
  {
   "cell_type": "code",
   "execution_count": 4,
   "metadata": {},
   "outputs": [
    {
     "data": {
      "text/plain": [
       "(40949, 16)"
      ]
     },
     "execution_count": 4,
     "metadata": {},
     "output_type": "execute_result"
    }
   ],
   "source": [
    "youtubeUS.shape #check dataframe dimensions"
   ]
  },
  {
   "cell_type": "code",
   "execution_count": 5,
   "metadata": {},
   "outputs": [],
   "source": [
    "youtubeGB = pd.read_csv(\"GBvideos.csv\") #load Great Britain youtube data "
   ]
  },
  {
   "cell_type": "code",
   "execution_count": 6,
   "metadata": {},
   "outputs": [
    {
     "data": {
      "text/plain": [
       "(38916, 16)"
      ]
     },
     "execution_count": 6,
     "metadata": {},
     "output_type": "execute_result"
    }
   ],
   "source": [
    "youtubeGB.shape #check dataframe dimensions"
   ]
  },
  {
   "cell_type": "code",
   "execution_count": 7,
   "metadata": {},
   "outputs": [],
   "source": [
    "youtubeIN = pd.read_csv(\"INvideos.csv\") #load India youtube data "
   ]
  },
  {
   "cell_type": "code",
   "execution_count": 8,
   "metadata": {},
   "outputs": [
    {
     "data": {
      "text/plain": [
       "(37352, 16)"
      ]
     },
     "execution_count": 8,
     "metadata": {},
     "output_type": "execute_result"
    }
   ],
   "source": [
    "youtubeIN.shape #check dataframe dimensions"
   ]
  },
  {
   "cell_type": "code",
   "execution_count": 9,
   "metadata": {},
   "outputs": [
    {
     "data": {
      "text/html": [
       "<div>\n",
       "<style scoped>\n",
       "    .dataframe tbody tr th:only-of-type {\n",
       "        vertical-align: middle;\n",
       "    }\n",
       "\n",
       "    .dataframe tbody tr th {\n",
       "        vertical-align: top;\n",
       "    }\n",
       "\n",
       "    .dataframe thead th {\n",
       "        text-align: right;\n",
       "    }\n",
       "</style>\n",
       "<table border=\"1\" class=\"dataframe\">\n",
       "  <thead>\n",
       "    <tr style=\"text-align: right;\">\n",
       "      <th></th>\n",
       "      <th>video_id</th>\n",
       "      <th>trending_date</th>\n",
       "      <th>title</th>\n",
       "      <th>channel_title</th>\n",
       "      <th>category_id</th>\n",
       "      <th>publish_time</th>\n",
       "      <th>tags</th>\n",
       "      <th>views</th>\n",
       "      <th>likes</th>\n",
       "      <th>dislikes</th>\n",
       "      <th>comment_count</th>\n",
       "      <th>thumbnail_link</th>\n",
       "      <th>comments_disabled</th>\n",
       "      <th>ratings_disabled</th>\n",
       "      <th>video_error_or_removed</th>\n",
       "      <th>description</th>\n",
       "    </tr>\n",
       "  </thead>\n",
       "  <tbody>\n",
       "    <tr>\n",
       "      <th>0</th>\n",
       "      <td>kzwfHumJyYc</td>\n",
       "      <td>17.14.11</td>\n",
       "      <td>Sharry Mann: Cute Munda ( Song Teaser) | Parmi...</td>\n",
       "      <td>Lokdhun Punjabi</td>\n",
       "      <td>1</td>\n",
       "      <td>2017-11-12T12:20:39.000Z</td>\n",
       "      <td>sharry mann|\"sharry mann new song\"|\"sharry man...</td>\n",
       "      <td>1096327</td>\n",
       "      <td>33966</td>\n",
       "      <td>798</td>\n",
       "      <td>882</td>\n",
       "      <td>https://i.ytimg.com/vi/kzwfHumJyYc/default.jpg</td>\n",
       "      <td>False</td>\n",
       "      <td>False</td>\n",
       "      <td>False</td>\n",
       "      <td>Presenting Sharry Mann latest Punjabi Song  Cu...</td>\n",
       "    </tr>\n",
       "    <tr>\n",
       "      <th>1</th>\n",
       "      <td>zUZ1z7FwLc8</td>\n",
       "      <td>17.14.11</td>\n",
       "      <td>पीरियड्स के समय, पेट पर पति करता ऐसा, देखकर दं...</td>\n",
       "      <td>HJ NEWS</td>\n",
       "      <td>25</td>\n",
       "      <td>2017-11-13T05:43:56.000Z</td>\n",
       "      <td>पीरियड्स के समय|\"पेट पर पति करता ऐसा\"|\"देखकर द...</td>\n",
       "      <td>590101</td>\n",
       "      <td>735</td>\n",
       "      <td>904</td>\n",
       "      <td>0</td>\n",
       "      <td>https://i.ytimg.com/vi/zUZ1z7FwLc8/default.jpg</td>\n",
       "      <td>True</td>\n",
       "      <td>False</td>\n",
       "      <td>False</td>\n",
       "      <td>पीरियड्स के समय, पेट पर पति करता ऐसा, देखकर दं...</td>\n",
       "    </tr>\n",
       "    <tr>\n",
       "      <th>2</th>\n",
       "      <td>10L1hZ9qa58</td>\n",
       "      <td>17.14.11</td>\n",
       "      <td>Stylish Star Allu Arjun @ ChaySam Wedding Rece...</td>\n",
       "      <td>TFPC</td>\n",
       "      <td>24</td>\n",
       "      <td>2017-11-12T15:48:08.000Z</td>\n",
       "      <td>Stylish Star Allu Arjun @ ChaySam Wedding Rece...</td>\n",
       "      <td>473988</td>\n",
       "      <td>2011</td>\n",
       "      <td>243</td>\n",
       "      <td>149</td>\n",
       "      <td>https://i.ytimg.com/vi/10L1hZ9qa58/default.jpg</td>\n",
       "      <td>False</td>\n",
       "      <td>False</td>\n",
       "      <td>False</td>\n",
       "      <td>Watch Stylish Star Allu Arjun @ ChaySam Weddin...</td>\n",
       "    </tr>\n",
       "  </tbody>\n",
       "</table>\n",
       "</div>"
      ],
      "text/plain": [
       "      video_id trending_date  \\\n",
       "0  kzwfHumJyYc      17.14.11   \n",
       "1  zUZ1z7FwLc8      17.14.11   \n",
       "2  10L1hZ9qa58      17.14.11   \n",
       "\n",
       "                                               title    channel_title  \\\n",
       "0  Sharry Mann: Cute Munda ( Song Teaser) | Parmi...  Lokdhun Punjabi   \n",
       "1  पीरियड्स के समय, पेट पर पति करता ऐसा, देखकर दं...          HJ NEWS   \n",
       "2  Stylish Star Allu Arjun @ ChaySam Wedding Rece...             TFPC   \n",
       "\n",
       "   category_id              publish_time  \\\n",
       "0            1  2017-11-12T12:20:39.000Z   \n",
       "1           25  2017-11-13T05:43:56.000Z   \n",
       "2           24  2017-11-12T15:48:08.000Z   \n",
       "\n",
       "                                                tags    views  likes  \\\n",
       "0  sharry mann|\"sharry mann new song\"|\"sharry man...  1096327  33966   \n",
       "1  पीरियड्स के समय|\"पेट पर पति करता ऐसा\"|\"देखकर द...   590101    735   \n",
       "2  Stylish Star Allu Arjun @ ChaySam Wedding Rece...   473988   2011   \n",
       "\n",
       "   dislikes  comment_count                                  thumbnail_link  \\\n",
       "0       798            882  https://i.ytimg.com/vi/kzwfHumJyYc/default.jpg   \n",
       "1       904              0  https://i.ytimg.com/vi/zUZ1z7FwLc8/default.jpg   \n",
       "2       243            149  https://i.ytimg.com/vi/10L1hZ9qa58/default.jpg   \n",
       "\n",
       "   comments_disabled  ratings_disabled  video_error_or_removed  \\\n",
       "0              False             False                   False   \n",
       "1               True             False                   False   \n",
       "2              False             False                   False   \n",
       "\n",
       "                                         description  \n",
       "0  Presenting Sharry Mann latest Punjabi Song  Cu...  \n",
       "1  पीरियड्स के समय, पेट पर पति करता ऐसा, देखकर दं...  \n",
       "2  Watch Stylish Star Allu Arjun @ ChaySam Weddin...  "
      ]
     },
     "execution_count": 9,
     "metadata": {},
     "output_type": "execute_result"
    }
   ],
   "source": [
    "youtubeIN.head(3) #check dataframe column values to get a feel of data"
   ]
  },
  {
   "cell_type": "code",
   "execution_count": 10,
   "metadata": {},
   "outputs": [
    {
     "data": {
      "text/html": [
       "<div>\n",
       "<style scoped>\n",
       "    .dataframe tbody tr th:only-of-type {\n",
       "        vertical-align: middle;\n",
       "    }\n",
       "\n",
       "    .dataframe tbody tr th {\n",
       "        vertical-align: top;\n",
       "    }\n",
       "\n",
       "    .dataframe thead th {\n",
       "        text-align: right;\n",
       "    }\n",
       "</style>\n",
       "<table border=\"1\" class=\"dataframe\">\n",
       "  <thead>\n",
       "    <tr style=\"text-align: right;\">\n",
       "      <th></th>\n",
       "      <th>category_id</th>\n",
       "      <th>views</th>\n",
       "      <th>likes</th>\n",
       "      <th>dislikes</th>\n",
       "      <th>comment_count</th>\n",
       "    </tr>\n",
       "  </thead>\n",
       "  <tbody>\n",
       "    <tr>\n",
       "      <th>count</th>\n",
       "      <td>37352.000000</td>\n",
       "      <td>3.735200e+04</td>\n",
       "      <td>3.735200e+04</td>\n",
       "      <td>3.735200e+04</td>\n",
       "      <td>37352.00000</td>\n",
       "    </tr>\n",
       "    <tr>\n",
       "      <th>mean</th>\n",
       "      <td>21.576596</td>\n",
       "      <td>1.060478e+06</td>\n",
       "      <td>2.708272e+04</td>\n",
       "      <td>1.665082e+03</td>\n",
       "      <td>2676.99743</td>\n",
       "    </tr>\n",
       "    <tr>\n",
       "      <th>std</th>\n",
       "      <td>6.556593</td>\n",
       "      <td>3.184932e+06</td>\n",
       "      <td>9.714510e+04</td>\n",
       "      <td>1.607617e+04</td>\n",
       "      <td>14868.31713</td>\n",
       "    </tr>\n",
       "    <tr>\n",
       "      <th>min</th>\n",
       "      <td>1.000000</td>\n",
       "      <td>4.024000e+03</td>\n",
       "      <td>0.000000e+00</td>\n",
       "      <td>0.000000e+00</td>\n",
       "      <td>0.00000</td>\n",
       "    </tr>\n",
       "    <tr>\n",
       "      <th>25%</th>\n",
       "      <td>23.000000</td>\n",
       "      <td>1.239155e+05</td>\n",
       "      <td>8.640000e+02</td>\n",
       "      <td>1.080000e+02</td>\n",
       "      <td>81.00000</td>\n",
       "    </tr>\n",
       "    <tr>\n",
       "      <th>50%</th>\n",
       "      <td>24.000000</td>\n",
       "      <td>3.045860e+05</td>\n",
       "      <td>3.069000e+03</td>\n",
       "      <td>3.260000e+02</td>\n",
       "      <td>329.00000</td>\n",
       "    </tr>\n",
       "    <tr>\n",
       "      <th>75%</th>\n",
       "      <td>24.000000</td>\n",
       "      <td>7.992912e+05</td>\n",
       "      <td>1.377425e+04</td>\n",
       "      <td>1.019250e+03</td>\n",
       "      <td>1285.00000</td>\n",
       "    </tr>\n",
       "    <tr>\n",
       "      <th>max</th>\n",
       "      <td>43.000000</td>\n",
       "      <td>1.254322e+08</td>\n",
       "      <td>2.912710e+06</td>\n",
       "      <td>1.545017e+06</td>\n",
       "      <td>827755.00000</td>\n",
       "    </tr>\n",
       "  </tbody>\n",
       "</table>\n",
       "</div>"
      ],
      "text/plain": [
       "        category_id         views         likes      dislikes  comment_count\n",
       "count  37352.000000  3.735200e+04  3.735200e+04  3.735200e+04    37352.00000\n",
       "mean      21.576596  1.060478e+06  2.708272e+04  1.665082e+03     2676.99743\n",
       "std        6.556593  3.184932e+06  9.714510e+04  1.607617e+04    14868.31713\n",
       "min        1.000000  4.024000e+03  0.000000e+00  0.000000e+00        0.00000\n",
       "25%       23.000000  1.239155e+05  8.640000e+02  1.080000e+02       81.00000\n",
       "50%       24.000000  3.045860e+05  3.069000e+03  3.260000e+02      329.00000\n",
       "75%       24.000000  7.992912e+05  1.377425e+04  1.019250e+03     1285.00000\n",
       "max       43.000000  1.254322e+08  2.912710e+06  1.545017e+06   827755.00000"
      ]
     },
     "execution_count": 10,
     "metadata": {},
     "output_type": "execute_result"
    }
   ],
   "source": [
    "youtubeIN.describe() #summary statistics"
   ]
  },
  {
   "cell_type": "code",
   "execution_count": 11,
   "metadata": {},
   "outputs": [],
   "source": [
    "us_json = pd.read_json(\"US_category_id.json\")"
   ]
  },
  {
   "cell_type": "code",
   "execution_count": 12,
   "metadata": {},
   "outputs": [
    {
     "data": {
      "text/html": [
       "<div>\n",
       "<style scoped>\n",
       "    .dataframe tbody tr th:only-of-type {\n",
       "        vertical-align: middle;\n",
       "    }\n",
       "\n",
       "    .dataframe tbody tr th {\n",
       "        vertical-align: top;\n",
       "    }\n",
       "\n",
       "    .dataframe thead th {\n",
       "        text-align: right;\n",
       "    }\n",
       "</style>\n",
       "<table border=\"1\" class=\"dataframe\">\n",
       "  <thead>\n",
       "    <tr style=\"text-align: right;\">\n",
       "      <th></th>\n",
       "      <th>kind</th>\n",
       "      <th>etag</th>\n",
       "      <th>items</th>\n",
       "    </tr>\n",
       "  </thead>\n",
       "  <tbody>\n",
       "    <tr>\n",
       "      <th>0</th>\n",
       "      <td>youtube#videoCategoryListResponse</td>\n",
       "      <td>\"m2yskBQFythfE4irbTIeOgYYfBU/S730Ilt-Fi-emsQJv...</td>\n",
       "      <td>{'kind': 'youtube#videoCategory', 'etag': '\"m2...</td>\n",
       "    </tr>\n",
       "    <tr>\n",
       "      <th>1</th>\n",
       "      <td>youtube#videoCategoryListResponse</td>\n",
       "      <td>\"m2yskBQFythfE4irbTIeOgYYfBU/S730Ilt-Fi-emsQJv...</td>\n",
       "      <td>{'kind': 'youtube#videoCategory', 'etag': '\"m2...</td>\n",
       "    </tr>\n",
       "    <tr>\n",
       "      <th>2</th>\n",
       "      <td>youtube#videoCategoryListResponse</td>\n",
       "      <td>\"m2yskBQFythfE4irbTIeOgYYfBU/S730Ilt-Fi-emsQJv...</td>\n",
       "      <td>{'kind': 'youtube#videoCategory', 'etag': '\"m2...</td>\n",
       "    </tr>\n",
       "  </tbody>\n",
       "</table>\n",
       "</div>"
      ],
      "text/plain": [
       "                                kind  \\\n",
       "0  youtube#videoCategoryListResponse   \n",
       "1  youtube#videoCategoryListResponse   \n",
       "2  youtube#videoCategoryListResponse   \n",
       "\n",
       "                                                etag  \\\n",
       "0  \"m2yskBQFythfE4irbTIeOgYYfBU/S730Ilt-Fi-emsQJv...   \n",
       "1  \"m2yskBQFythfE4irbTIeOgYYfBU/S730Ilt-Fi-emsQJv...   \n",
       "2  \"m2yskBQFythfE4irbTIeOgYYfBU/S730Ilt-Fi-emsQJv...   \n",
       "\n",
       "                                               items  \n",
       "0  {'kind': 'youtube#videoCategory', 'etag': '\"m2...  \n",
       "1  {'kind': 'youtube#videoCategory', 'etag': '\"m2...  \n",
       "2  {'kind': 'youtube#videoCategory', 'etag': '\"m2...  "
      ]
     },
     "execution_count": 12,
     "metadata": {},
     "output_type": "execute_result"
    }
   ],
   "source": [
    "us_json.head(3) #loading json files"
   ]
  },
  {
   "cell_type": "code",
   "execution_count": 13,
   "metadata": {},
   "outputs": [
    {
     "data": {
      "text/html": [
       "<div>\n",
       "<style scoped>\n",
       "    .dataframe tbody tr th:only-of-type {\n",
       "        vertical-align: middle;\n",
       "    }\n",
       "\n",
       "    .dataframe tbody tr th {\n",
       "        vertical-align: top;\n",
       "    }\n",
       "\n",
       "    .dataframe thead th {\n",
       "        text-align: right;\n",
       "    }\n",
       "</style>\n",
       "<table border=\"1\" class=\"dataframe\">\n",
       "  <thead>\n",
       "    <tr style=\"text-align: right;\">\n",
       "      <th></th>\n",
       "      <th>kind</th>\n",
       "      <th>etag</th>\n",
       "      <th>items</th>\n",
       "    </tr>\n",
       "  </thead>\n",
       "  <tbody>\n",
       "    <tr>\n",
       "      <th>count</th>\n",
       "      <td>32</td>\n",
       "      <td>32</td>\n",
       "      <td>32</td>\n",
       "    </tr>\n",
       "    <tr>\n",
       "      <th>unique</th>\n",
       "      <td>1</td>\n",
       "      <td>1</td>\n",
       "      <td>32</td>\n",
       "    </tr>\n",
       "    <tr>\n",
       "      <th>top</th>\n",
       "      <td>youtube#videoCategoryListResponse</td>\n",
       "      <td>\"m2yskBQFythfE4irbTIeOgYYfBU/S730Ilt-Fi-emsQJv...</td>\n",
       "      <td>{'kind': 'youtube#videoCategory', 'etag': '\"m2...</td>\n",
       "    </tr>\n",
       "    <tr>\n",
       "      <th>freq</th>\n",
       "      <td>32</td>\n",
       "      <td>32</td>\n",
       "      <td>1</td>\n",
       "    </tr>\n",
       "  </tbody>\n",
       "</table>\n",
       "</div>"
      ],
      "text/plain": [
       "                                     kind  \\\n",
       "count                                  32   \n",
       "unique                                  1   \n",
       "top     youtube#videoCategoryListResponse   \n",
       "freq                                   32   \n",
       "\n",
       "                                                     etag  \\\n",
       "count                                                  32   \n",
       "unique                                                  1   \n",
       "top     \"m2yskBQFythfE4irbTIeOgYYfBU/S730Ilt-Fi-emsQJv...   \n",
       "freq                                                   32   \n",
       "\n",
       "                                                    items  \n",
       "count                                                  32  \n",
       "unique                                                 32  \n",
       "top     {'kind': 'youtube#videoCategory', 'etag': '\"m2...  \n",
       "freq                                                    1  "
      ]
     },
     "execution_count": 13,
     "metadata": {},
     "output_type": "execute_result"
    }
   ],
   "source": [
    "us_json.describe()"
   ]
  },
  {
   "cell_type": "code",
   "execution_count": 14,
   "metadata": {},
   "outputs": [
    {
     "data": {
      "text/plain": [
       "kind     object\n",
       "etag     object\n",
       "items    object\n",
       "dtype: object"
      ]
     },
     "execution_count": 14,
     "metadata": {},
     "output_type": "execute_result"
    }
   ],
   "source": [
    "us_json.dtypes"
   ]
  },
  {
   "cell_type": "code",
   "execution_count": 15,
   "metadata": {},
   "outputs": [],
   "source": [
    "in_json = pd.read_json(\"IN_category_id.json\")"
   ]
  },
  {
   "cell_type": "code",
   "execution_count": 16,
   "metadata": {},
   "outputs": [
    {
     "data": {
      "text/html": [
       "<div>\n",
       "<style scoped>\n",
       "    .dataframe tbody tr th:only-of-type {\n",
       "        vertical-align: middle;\n",
       "    }\n",
       "\n",
       "    .dataframe tbody tr th {\n",
       "        vertical-align: top;\n",
       "    }\n",
       "\n",
       "    .dataframe thead th {\n",
       "        text-align: right;\n",
       "    }\n",
       "</style>\n",
       "<table border=\"1\" class=\"dataframe\">\n",
       "  <thead>\n",
       "    <tr style=\"text-align: right;\">\n",
       "      <th></th>\n",
       "      <th>kind</th>\n",
       "      <th>etag</th>\n",
       "      <th>items</th>\n",
       "    </tr>\n",
       "  </thead>\n",
       "  <tbody>\n",
       "    <tr>\n",
       "      <th>count</th>\n",
       "      <td>31</td>\n",
       "      <td>31</td>\n",
       "      <td>31</td>\n",
       "    </tr>\n",
       "    <tr>\n",
       "      <th>unique</th>\n",
       "      <td>1</td>\n",
       "      <td>1</td>\n",
       "      <td>31</td>\n",
       "    </tr>\n",
       "    <tr>\n",
       "      <th>top</th>\n",
       "      <td>youtube#videoCategoryListResponse</td>\n",
       "      <td>\"XI7nbFXulYBIpL0ayR_gDh3eu1k/1v2mrzYSYG6onNLt2...</td>\n",
       "      <td>{'kind': 'youtube#videoCategory', 'etag': '\"XI...</td>\n",
       "    </tr>\n",
       "    <tr>\n",
       "      <th>freq</th>\n",
       "      <td>31</td>\n",
       "      <td>31</td>\n",
       "      <td>1</td>\n",
       "    </tr>\n",
       "  </tbody>\n",
       "</table>\n",
       "</div>"
      ],
      "text/plain": [
       "                                     kind  \\\n",
       "count                                  31   \n",
       "unique                                  1   \n",
       "top     youtube#videoCategoryListResponse   \n",
       "freq                                   31   \n",
       "\n",
       "                                                     etag  \\\n",
       "count                                                  31   \n",
       "unique                                                  1   \n",
       "top     \"XI7nbFXulYBIpL0ayR_gDh3eu1k/1v2mrzYSYG6onNLt2...   \n",
       "freq                                                   31   \n",
       "\n",
       "                                                    items  \n",
       "count                                                  31  \n",
       "unique                                                 31  \n",
       "top     {'kind': 'youtube#videoCategory', 'etag': '\"XI...  \n",
       "freq                                                    1  "
      ]
     },
     "execution_count": 16,
     "metadata": {},
     "output_type": "execute_result"
    }
   ],
   "source": [
    "in_json.describe()"
   ]
  },
  {
   "cell_type": "code",
   "execution_count": 17,
   "metadata": {},
   "outputs": [],
   "source": [
    "gb_json = pd.read_json(\"GB_category_id.json\")"
   ]
  },
  {
   "cell_type": "code",
   "execution_count": 18,
   "metadata": {},
   "outputs": [
    {
     "data": {
      "text/html": [
       "<div>\n",
       "<style scoped>\n",
       "    .dataframe tbody tr th:only-of-type {\n",
       "        vertical-align: middle;\n",
       "    }\n",
       "\n",
       "    .dataframe tbody tr th {\n",
       "        vertical-align: top;\n",
       "    }\n",
       "\n",
       "    .dataframe thead th {\n",
       "        text-align: right;\n",
       "    }\n",
       "</style>\n",
       "<table border=\"1\" class=\"dataframe\">\n",
       "  <thead>\n",
       "    <tr style=\"text-align: right;\">\n",
       "      <th></th>\n",
       "      <th>kind</th>\n",
       "      <th>etag</th>\n",
       "      <th>items</th>\n",
       "    </tr>\n",
       "  </thead>\n",
       "  <tbody>\n",
       "    <tr>\n",
       "      <th>count</th>\n",
       "      <td>31</td>\n",
       "      <td>31</td>\n",
       "      <td>31</td>\n",
       "    </tr>\n",
       "    <tr>\n",
       "      <th>unique</th>\n",
       "      <td>1</td>\n",
       "      <td>1</td>\n",
       "      <td>31</td>\n",
       "    </tr>\n",
       "    <tr>\n",
       "      <th>top</th>\n",
       "      <td>youtube#videoCategoryListResponse</td>\n",
       "      <td>\"m2yskBQFythfE4irbTIeOgYYfBU/1v2mrzYSYG6onNLt2...</td>\n",
       "      <td>{'kind': 'youtube#videoCategory', 'etag': '\"m2...</td>\n",
       "    </tr>\n",
       "    <tr>\n",
       "      <th>freq</th>\n",
       "      <td>31</td>\n",
       "      <td>31</td>\n",
       "      <td>1</td>\n",
       "    </tr>\n",
       "  </tbody>\n",
       "</table>\n",
       "</div>"
      ],
      "text/plain": [
       "                                     kind  \\\n",
       "count                                  31   \n",
       "unique                                  1   \n",
       "top     youtube#videoCategoryListResponse   \n",
       "freq                                   31   \n",
       "\n",
       "                                                     etag  \\\n",
       "count                                                  31   \n",
       "unique                                                  1   \n",
       "top     \"m2yskBQFythfE4irbTIeOgYYfBU/1v2mrzYSYG6onNLt2...   \n",
       "freq                                                   31   \n",
       "\n",
       "                                                    items  \n",
       "count                                                  31  \n",
       "unique                                                 31  \n",
       "top     {'kind': 'youtube#videoCategory', 'etag': '\"m2...  \n",
       "freq                                                    1  "
      ]
     },
     "execution_count": 18,
     "metadata": {},
     "output_type": "execute_result"
    }
   ],
   "source": [
    "gb_json.describe()"
   ]
  },
  {
   "cell_type": "code",
   "execution_count": 19,
   "metadata": {},
   "outputs": [
    {
     "data": {
      "text/html": [
       "<div>\n",
       "<style scoped>\n",
       "    .dataframe tbody tr th:only-of-type {\n",
       "        vertical-align: middle;\n",
       "    }\n",
       "\n",
       "    .dataframe tbody tr th {\n",
       "        vertical-align: top;\n",
       "    }\n",
       "\n",
       "    .dataframe thead th {\n",
       "        text-align: right;\n",
       "    }\n",
       "</style>\n",
       "<table border=\"1\" class=\"dataframe\">\n",
       "  <thead>\n",
       "    <tr style=\"text-align: right;\">\n",
       "      <th></th>\n",
       "      <th>Country</th>\n",
       "      <th>video_id</th>\n",
       "      <th>trending_date</th>\n",
       "      <th>title</th>\n",
       "      <th>channel_title</th>\n",
       "      <th>category_id</th>\n",
       "      <th>publish_time</th>\n",
       "      <th>tags</th>\n",
       "      <th>views</th>\n",
       "      <th>likes</th>\n",
       "      <th>dislikes</th>\n",
       "      <th>comment_count</th>\n",
       "      <th>thumbnail_link</th>\n",
       "      <th>comments_disabled</th>\n",
       "      <th>ratings_disabled</th>\n",
       "      <th>video_error_or_removed</th>\n",
       "      <th>description</th>\n",
       "    </tr>\n",
       "  </thead>\n",
       "  <tbody>\n",
       "    <tr>\n",
       "      <th>0</th>\n",
       "      <td>IN</td>\n",
       "      <td>kzwfHumJyYc</td>\n",
       "      <td>17.14.11</td>\n",
       "      <td>Sharry Mann: Cute Munda ( Song Teaser) | Parmi...</td>\n",
       "      <td>Lokdhun Punjabi</td>\n",
       "      <td>1</td>\n",
       "      <td>2017-11-12T12:20:39.000Z</td>\n",
       "      <td>sharry mann|\"sharry mann new song\"|\"sharry man...</td>\n",
       "      <td>1096327</td>\n",
       "      <td>33966</td>\n",
       "      <td>798</td>\n",
       "      <td>882</td>\n",
       "      <td>https://i.ytimg.com/vi/kzwfHumJyYc/default.jpg</td>\n",
       "      <td>False</td>\n",
       "      <td>False</td>\n",
       "      <td>False</td>\n",
       "      <td>Presenting Sharry Mann latest Punjabi Song  Cu...</td>\n",
       "    </tr>\n",
       "    <tr>\n",
       "      <th>1</th>\n",
       "      <td>IN</td>\n",
       "      <td>zUZ1z7FwLc8</td>\n",
       "      <td>17.14.11</td>\n",
       "      <td>पीरियड्स के समय, पेट पर पति करता ऐसा, देखकर दं...</td>\n",
       "      <td>HJ NEWS</td>\n",
       "      <td>25</td>\n",
       "      <td>2017-11-13T05:43:56.000Z</td>\n",
       "      <td>पीरियड्स के समय|\"पेट पर पति करता ऐसा\"|\"देखकर द...</td>\n",
       "      <td>590101</td>\n",
       "      <td>735</td>\n",
       "      <td>904</td>\n",
       "      <td>0</td>\n",
       "      <td>https://i.ytimg.com/vi/zUZ1z7FwLc8/default.jpg</td>\n",
       "      <td>True</td>\n",
       "      <td>False</td>\n",
       "      <td>False</td>\n",
       "      <td>पीरियड्स के समय, पेट पर पति करता ऐसा, देखकर दं...</td>\n",
       "    </tr>\n",
       "    <tr>\n",
       "      <th>2</th>\n",
       "      <td>IN</td>\n",
       "      <td>10L1hZ9qa58</td>\n",
       "      <td>17.14.11</td>\n",
       "      <td>Stylish Star Allu Arjun @ ChaySam Wedding Rece...</td>\n",
       "      <td>TFPC</td>\n",
       "      <td>24</td>\n",
       "      <td>2017-11-12T15:48:08.000Z</td>\n",
       "      <td>Stylish Star Allu Arjun @ ChaySam Wedding Rece...</td>\n",
       "      <td>473988</td>\n",
       "      <td>2011</td>\n",
       "      <td>243</td>\n",
       "      <td>149</td>\n",
       "      <td>https://i.ytimg.com/vi/10L1hZ9qa58/default.jpg</td>\n",
       "      <td>False</td>\n",
       "      <td>False</td>\n",
       "      <td>False</td>\n",
       "      <td>Watch Stylish Star Allu Arjun @ ChaySam Weddin...</td>\n",
       "    </tr>\n",
       "  </tbody>\n",
       "</table>\n",
       "</div>"
      ],
      "text/plain": [
       "  Country     video_id trending_date  \\\n",
       "0      IN  kzwfHumJyYc      17.14.11   \n",
       "1      IN  zUZ1z7FwLc8      17.14.11   \n",
       "2      IN  10L1hZ9qa58      17.14.11   \n",
       "\n",
       "                                               title    channel_title  \\\n",
       "0  Sharry Mann: Cute Munda ( Song Teaser) | Parmi...  Lokdhun Punjabi   \n",
       "1  पीरियड्स के समय, पेट पर पति करता ऐसा, देखकर दं...          HJ NEWS   \n",
       "2  Stylish Star Allu Arjun @ ChaySam Wedding Rece...             TFPC   \n",
       "\n",
       "   category_id              publish_time  \\\n",
       "0            1  2017-11-12T12:20:39.000Z   \n",
       "1           25  2017-11-13T05:43:56.000Z   \n",
       "2           24  2017-11-12T15:48:08.000Z   \n",
       "\n",
       "                                                tags    views  likes  \\\n",
       "0  sharry mann|\"sharry mann new song\"|\"sharry man...  1096327  33966   \n",
       "1  पीरियड्स के समय|\"पेट पर पति करता ऐसा\"|\"देखकर द...   590101    735   \n",
       "2  Stylish Star Allu Arjun @ ChaySam Wedding Rece...   473988   2011   \n",
       "\n",
       "   dislikes  comment_count                                  thumbnail_link  \\\n",
       "0       798            882  https://i.ytimg.com/vi/kzwfHumJyYc/default.jpg   \n",
       "1       904              0  https://i.ytimg.com/vi/zUZ1z7FwLc8/default.jpg   \n",
       "2       243            149  https://i.ytimg.com/vi/10L1hZ9qa58/default.jpg   \n",
       "\n",
       "   comments_disabled  ratings_disabled  video_error_or_removed  \\\n",
       "0              False             False                   False   \n",
       "1               True             False                   False   \n",
       "2              False             False                   False   \n",
       "\n",
       "                                         description  \n",
       "0  Presenting Sharry Mann latest Punjabi Song  Cu...  \n",
       "1  पीरियड्स के समय, पेट पर पति करता ऐसा, देखकर दं...  \n",
       "2  Watch Stylish Star Allu Arjun @ ChaySam Weddin...  "
      ]
     },
     "execution_count": 19,
     "metadata": {},
     "output_type": "execute_result"
    }
   ],
   "source": [
    "youtubeUS.insert(0,\"Country\",\"US\", True)\n",
    "youtubeGB.insert(0,\"Country\",\"GB\", True) #insert country column with country code\n",
    "youtubeIN.insert(0,\"Country\",\"IN\", True)\n",
    "youtubeIN.head(3)"
   ]
  },
  {
   "cell_type": "code",
   "execution_count": 20,
   "metadata": {},
   "outputs": [],
   "source": [
    "youtubeUSGBIN = pd.concat([youtubeUS, youtubeGB, youtubeIN]) #concat all three dataframes"
   ]
  },
  {
   "cell_type": "code",
   "execution_count": 21,
   "metadata": {},
   "outputs": [
    {
     "data": {
      "text/html": [
       "<div>\n",
       "<style scoped>\n",
       "    .dataframe tbody tr th:only-of-type {\n",
       "        vertical-align: middle;\n",
       "    }\n",
       "\n",
       "    .dataframe tbody tr th {\n",
       "        vertical-align: top;\n",
       "    }\n",
       "\n",
       "    .dataframe thead th {\n",
       "        text-align: right;\n",
       "    }\n",
       "</style>\n",
       "<table border=\"1\" class=\"dataframe\">\n",
       "  <thead>\n",
       "    <tr style=\"text-align: right;\">\n",
       "      <th></th>\n",
       "      <th>category_id</th>\n",
       "      <th>views</th>\n",
       "      <th>likes</th>\n",
       "      <th>dislikes</th>\n",
       "      <th>comment_count</th>\n",
       "    </tr>\n",
       "  </thead>\n",
       "  <tbody>\n",
       "    <tr>\n",
       "      <th>count</th>\n",
       "      <td>117217.000000</td>\n",
       "      <td>1.172170e+05</td>\n",
       "      <td>1.172170e+05</td>\n",
       "      <td>1.172170e+05</td>\n",
       "      <td>1.172170e+05</td>\n",
       "    </tr>\n",
       "    <tr>\n",
       "      <th>mean</th>\n",
       "      <td>19.439638</td>\n",
       "      <td>3.125416e+06</td>\n",
       "      <td>7.923513e+04</td>\n",
       "      <td>4.354511e+03</td>\n",
       "      <td>8.149208e+03</td>\n",
       "    </tr>\n",
       "    <tr>\n",
       "      <th>std</th>\n",
       "      <td>7.581672</td>\n",
       "      <td>1.209701e+07</td>\n",
       "      <td>2.527158e+05</td>\n",
       "      <td>3.528140e+04</td>\n",
       "      <td>3.781326e+04</td>\n",
       "    </tr>\n",
       "    <tr>\n",
       "      <th>min</th>\n",
       "      <td>1.000000</td>\n",
       "      <td>5.490000e+02</td>\n",
       "      <td>0.000000e+00</td>\n",
       "      <td>0.000000e+00</td>\n",
       "      <td>0.000000e+00</td>\n",
       "    </tr>\n",
       "    <tr>\n",
       "      <th>25%</th>\n",
       "      <td>10.000000</td>\n",
       "      <td>1.819770e+05</td>\n",
       "      <td>2.544000e+03</td>\n",
       "      <td>1.600000e+02</td>\n",
       "      <td>2.990000e+02</td>\n",
       "    </tr>\n",
       "    <tr>\n",
       "      <th>50%</th>\n",
       "      <td>24.000000</td>\n",
       "      <td>5.605360e+05</td>\n",
       "      <td>1.222400e+04</td>\n",
       "      <td>5.440000e+02</td>\n",
       "      <td>1.255000e+03</td>\n",
       "    </tr>\n",
       "    <tr>\n",
       "      <th>75%</th>\n",
       "      <td>24.000000</td>\n",
       "      <td>1.811610e+06</td>\n",
       "      <td>5.198400e+04</td>\n",
       "      <td>1.913000e+03</td>\n",
       "      <td>4.738000e+03</td>\n",
       "    </tr>\n",
       "    <tr>\n",
       "      <th>max</th>\n",
       "      <td>43.000000</td>\n",
       "      <td>4.245389e+08</td>\n",
       "      <td>5.613827e+06</td>\n",
       "      <td>1.944971e+06</td>\n",
       "      <td>1.626501e+06</td>\n",
       "    </tr>\n",
       "  </tbody>\n",
       "</table>\n",
       "</div>"
      ],
      "text/plain": [
       "         category_id         views         likes      dislikes  comment_count\n",
       "count  117217.000000  1.172170e+05  1.172170e+05  1.172170e+05   1.172170e+05\n",
       "mean       19.439638  3.125416e+06  7.923513e+04  4.354511e+03   8.149208e+03\n",
       "std         7.581672  1.209701e+07  2.527158e+05  3.528140e+04   3.781326e+04\n",
       "min         1.000000  5.490000e+02  0.000000e+00  0.000000e+00   0.000000e+00\n",
       "25%        10.000000  1.819770e+05  2.544000e+03  1.600000e+02   2.990000e+02\n",
       "50%        24.000000  5.605360e+05  1.222400e+04  5.440000e+02   1.255000e+03\n",
       "75%        24.000000  1.811610e+06  5.198400e+04  1.913000e+03   4.738000e+03\n",
       "max        43.000000  4.245389e+08  5.613827e+06  1.944971e+06   1.626501e+06"
      ]
     },
     "execution_count": 21,
     "metadata": {},
     "output_type": "execute_result"
    }
   ],
   "source": [
    "youtubeUSGBIN.describe() #summary statistisc"
   ]
  },
  {
   "cell_type": "code",
   "execution_count": 22,
   "metadata": {},
   "outputs": [
    {
     "data": {
      "text/html": [
       "<div>\n",
       "<style scoped>\n",
       "    .dataframe tbody tr th:only-of-type {\n",
       "        vertical-align: middle;\n",
       "    }\n",
       "\n",
       "    .dataframe tbody tr th {\n",
       "        vertical-align: top;\n",
       "    }\n",
       "\n",
       "    .dataframe thead th {\n",
       "        text-align: right;\n",
       "    }\n",
       "</style>\n",
       "<table border=\"1\" class=\"dataframe\">\n",
       "  <thead>\n",
       "    <tr style=\"text-align: right;\">\n",
       "      <th></th>\n",
       "      <th>Country</th>\n",
       "      <th>video_id</th>\n",
       "      <th>trending_date</th>\n",
       "      <th>title</th>\n",
       "      <th>channel_title</th>\n",
       "      <th>category_id</th>\n",
       "      <th>publish_time</th>\n",
       "      <th>tags</th>\n",
       "      <th>views</th>\n",
       "      <th>likes</th>\n",
       "      <th>dislikes</th>\n",
       "      <th>comment_count</th>\n",
       "      <th>thumbnail_link</th>\n",
       "      <th>comments_disabled</th>\n",
       "      <th>ratings_disabled</th>\n",
       "      <th>video_error_or_removed</th>\n",
       "      <th>description</th>\n",
       "    </tr>\n",
       "  </thead>\n",
       "  <tbody>\n",
       "    <tr>\n",
       "      <th>37349</th>\n",
       "      <td>IN</td>\n",
       "      <td>mV6aztP58f8</td>\n",
       "      <td>18.14.06</td>\n",
       "      <td>Bhramanam I Episode 87 - 12 June 2018 I Mazhav...</td>\n",
       "      <td>Mazhavil Manorama</td>\n",
       "      <td>24</td>\n",
       "      <td>2018-06-13T05:00:02.000Z</td>\n",
       "      <td>mazhavil manorama|\"bhramanam full episode\"|\"gt...</td>\n",
       "      <td>386319</td>\n",
       "      <td>1216</td>\n",
       "      <td>453</td>\n",
       "      <td>697</td>\n",
       "      <td>https://i.ytimg.com/vi/mV6aztP58f8/default.jpg</td>\n",
       "      <td>False</td>\n",
       "      <td>False</td>\n",
       "      <td>False</td>\n",
       "      <td>Subscribe to Mazhavil Manorama now for your da...</td>\n",
       "    </tr>\n",
       "    <tr>\n",
       "      <th>37350</th>\n",
       "      <td>IN</td>\n",
       "      <td>qxqDNP1bDEw</td>\n",
       "      <td>18.14.06</td>\n",
       "      <td>Nua Bohu | Full Ep 285 | 13th June 2018 | Odia...</td>\n",
       "      <td>Tarang TV</td>\n",
       "      <td>24</td>\n",
       "      <td>2018-06-13T15:07:49.000Z</td>\n",
       "      <td>tarang|\"tarang tv\"|\"tarang tv online\"|\"tarang ...</td>\n",
       "      <td>130263</td>\n",
       "      <td>698</td>\n",
       "      <td>115</td>\n",
       "      <td>65</td>\n",
       "      <td>https://i.ytimg.com/vi/qxqDNP1bDEw/default.jpg</td>\n",
       "      <td>False</td>\n",
       "      <td>False</td>\n",
       "      <td>False</td>\n",
       "      <td>Nuabohu : Story of a rustic village girl who w...</td>\n",
       "    </tr>\n",
       "    <tr>\n",
       "      <th>37351</th>\n",
       "      <td>IN</td>\n",
       "      <td>wERgpPK44w0</td>\n",
       "      <td>18.14.06</td>\n",
       "      <td>Ee Nagaraniki Emaindi Trailer | Tharun Bhascke...</td>\n",
       "      <td>Suresh Productions</td>\n",
       "      <td>24</td>\n",
       "      <td>2018-06-10T04:29:54.000Z</td>\n",
       "      <td>Ee Nagaraniki Emaindi|\"Ee Nagaraniki Emaindi T...</td>\n",
       "      <td>1278249</td>\n",
       "      <td>22466</td>\n",
       "      <td>1609</td>\n",
       "      <td>1205</td>\n",
       "      <td>https://i.ytimg.com/vi/wERgpPK44w0/default.jpg</td>\n",
       "      <td>False</td>\n",
       "      <td>False</td>\n",
       "      <td>False</td>\n",
       "      <td>Check out Ee Nagaraniki Emaindi Trailer #EeNag...</td>\n",
       "    </tr>\n",
       "  </tbody>\n",
       "</table>\n",
       "</div>"
      ],
      "text/plain": [
       "      Country     video_id trending_date  \\\n",
       "37349      IN  mV6aztP58f8      18.14.06   \n",
       "37350      IN  qxqDNP1bDEw      18.14.06   \n",
       "37351      IN  wERgpPK44w0      18.14.06   \n",
       "\n",
       "                                                   title       channel_title  \\\n",
       "37349  Bhramanam I Episode 87 - 12 June 2018 I Mazhav...   Mazhavil Manorama   \n",
       "37350  Nua Bohu | Full Ep 285 | 13th June 2018 | Odia...           Tarang TV   \n",
       "37351  Ee Nagaraniki Emaindi Trailer | Tharun Bhascke...  Suresh Productions   \n",
       "\n",
       "       category_id              publish_time  \\\n",
       "37349           24  2018-06-13T05:00:02.000Z   \n",
       "37350           24  2018-06-13T15:07:49.000Z   \n",
       "37351           24  2018-06-10T04:29:54.000Z   \n",
       "\n",
       "                                                    tags    views  likes  \\\n",
       "37349  mazhavil manorama|\"bhramanam full episode\"|\"gt...   386319   1216   \n",
       "37350  tarang|\"tarang tv\"|\"tarang tv online\"|\"tarang ...   130263    698   \n",
       "37351  Ee Nagaraniki Emaindi|\"Ee Nagaraniki Emaindi T...  1278249  22466   \n",
       "\n",
       "       dislikes  comment_count  \\\n",
       "37349       453            697   \n",
       "37350       115             65   \n",
       "37351      1609           1205   \n",
       "\n",
       "                                       thumbnail_link  comments_disabled  \\\n",
       "37349  https://i.ytimg.com/vi/mV6aztP58f8/default.jpg              False   \n",
       "37350  https://i.ytimg.com/vi/qxqDNP1bDEw/default.jpg              False   \n",
       "37351  https://i.ytimg.com/vi/wERgpPK44w0/default.jpg              False   \n",
       "\n",
       "       ratings_disabled  video_error_or_removed  \\\n",
       "37349             False                   False   \n",
       "37350             False                   False   \n",
       "37351             False                   False   \n",
       "\n",
       "                                             description  \n",
       "37349  Subscribe to Mazhavil Manorama now for your da...  \n",
       "37350  Nuabohu : Story of a rustic village girl who w...  \n",
       "37351  Check out Ee Nagaraniki Emaindi Trailer #EeNag...  "
      ]
     },
     "execution_count": 22,
     "metadata": {},
     "output_type": "execute_result"
    }
   ],
   "source": [
    "youtubeUSGBIN.tail(3) #peep into the data"
   ]
  },
  {
   "cell_type": "code",
   "execution_count": 23,
   "metadata": {},
   "outputs": [
    {
     "data": {
      "text/plain": [
       "(117217, 17)"
      ]
     },
     "execution_count": 23,
     "metadata": {},
     "output_type": "execute_result"
    }
   ],
   "source": [
    "youtubeUSGBIN.shape #shape of master dataframe"
   ]
  },
  {
   "cell_type": "code",
   "execution_count": 24,
   "metadata": {},
   "outputs": [
    {
     "data": {
      "text/plain": [
       "Country                   object\n",
       "video_id                  object\n",
       "trending_date             object\n",
       "title                     object\n",
       "channel_title             object\n",
       "category_id                int64\n",
       "publish_time              object\n",
       "tags                      object\n",
       "views                      int64\n",
       "likes                      int64\n",
       "dislikes                   int64\n",
       "comment_count              int64\n",
       "thumbnail_link            object\n",
       "comments_disabled           bool\n",
       "ratings_disabled            bool\n",
       "video_error_or_removed      bool\n",
       "description               object\n",
       "dtype: object"
      ]
     },
     "execution_count": 24,
     "metadata": {},
     "output_type": "execute_result"
    }
   ],
   "source": [
    "youtubeUSGBIN.dtypes #data types of cols"
   ]
  },
  {
   "cell_type": "code",
   "execution_count": 25,
   "metadata": {
    "scrolled": true
   },
   "outputs": [
    {
     "data": {
      "text/plain": [
       "Country                   False\n",
       "video_id                  False\n",
       "trending_date             False\n",
       "title                     False\n",
       "channel_title             False\n",
       "category_id               False\n",
       "publish_time              False\n",
       "tags                      False\n",
       "views                     False\n",
       "likes                     False\n",
       "dislikes                  False\n",
       "comment_count             False\n",
       "thumbnail_link            False\n",
       "comments_disabled         False\n",
       "ratings_disabled          False\n",
       "video_error_or_removed    False\n",
       "description                True\n",
       "dtype: bool"
      ]
     },
     "execution_count": 25,
     "metadata": {},
     "output_type": "execute_result"
    }
   ],
   "source": [
    "youtubeUSGBIN.isnull().any() #description col has some nulls"
   ]
  },
  {
   "cell_type": "code",
   "execution_count": 26,
   "metadata": {},
   "outputs": [
    {
     "data": {
      "text/plain": [
       "Country                      0\n",
       "video_id                     0\n",
       "trending_date                0\n",
       "title                        0\n",
       "channel_title                0\n",
       "category_id                  0\n",
       "publish_time                 0\n",
       "tags                         0\n",
       "views                        0\n",
       "likes                        0\n",
       "dislikes                     0\n",
       "comment_count                0\n",
       "thumbnail_link               0\n",
       "comments_disabled            0\n",
       "ratings_disabled             0\n",
       "video_error_or_removed       0\n",
       "description               1743\n",
       "dtype: int64"
      ]
     },
     "execution_count": 26,
     "metadata": {},
     "output_type": "execute_result"
    }
   ],
   "source": [
    "youtubeUSGBIN.isna().sum() #count of nulls"
   ]
  },
  {
   "cell_type": "code",
   "execution_count": 27,
   "metadata": {},
   "outputs": [
    {
     "data": {
      "text/html": [
       "<div>\n",
       "<style scoped>\n",
       "    .dataframe tbody tr th:only-of-type {\n",
       "        vertical-align: middle;\n",
       "    }\n",
       "\n",
       "    .dataframe tbody tr th {\n",
       "        vertical-align: top;\n",
       "    }\n",
       "\n",
       "    .dataframe thead th {\n",
       "        text-align: right;\n",
       "    }\n",
       "</style>\n",
       "<table border=\"1\" class=\"dataframe\">\n",
       "  <thead>\n",
       "    <tr style=\"text-align: right;\">\n",
       "      <th></th>\n",
       "      <th>Country</th>\n",
       "      <th>video_id</th>\n",
       "      <th>trending_date</th>\n",
       "      <th>title</th>\n",
       "      <th>channel_title</th>\n",
       "      <th>category_id</th>\n",
       "      <th>publish_time</th>\n",
       "      <th>tags</th>\n",
       "      <th>views</th>\n",
       "      <th>likes</th>\n",
       "      <th>dislikes</th>\n",
       "      <th>comment_count</th>\n",
       "      <th>thumbnail_link</th>\n",
       "      <th>comments_disabled</th>\n",
       "      <th>ratings_disabled</th>\n",
       "      <th>video_error_or_removed</th>\n",
       "      <th>description</th>\n",
       "    </tr>\n",
       "  </thead>\n",
       "  <tbody>\n",
       "    <tr>\n",
       "      <th>0</th>\n",
       "      <td>GB</td>\n",
       "      <td>xvmTr6S00Aw</td>\n",
       "      <td>18.20.03</td>\n",
       "      <td>MY PARENTS DO MY MAKEUP</td>\n",
       "      <td>James Charles</td>\n",
       "      <td>24</td>\n",
       "      <td>2018-02-27T22:02:48.000Z</td>\n",
       "      <td>james|\"james charles\"|\"charles\"|\"makeup\"|\"mua\"...</td>\n",
       "      <td>3091882</td>\n",
       "      <td>241613</td>\n",
       "      <td>4660</td>\n",
       "      <td>32132</td>\n",
       "      <td>https://i.ytimg.com/vi/xvmTr6S00Aw/default.jpg</td>\n",
       "      <td>False</td>\n",
       "      <td>False</td>\n",
       "      <td>False</td>\n",
       "      <td>HI SISTERS! You've met me, my daddy, all of my...</td>\n",
       "    </tr>\n",
       "    <tr>\n",
       "      <th>1</th>\n",
       "      <td>GB</td>\n",
       "      <td>LPsRp7uUXUk</td>\n",
       "      <td>17.22.12</td>\n",
       "      <td>Gender Wars: The Last Snowflake</td>\n",
       "      <td>Sargon of Akkad</td>\n",
       "      <td>25</td>\n",
       "      <td>2017-12-20T19:27:36.000Z</td>\n",
       "      <td>star wars|\"feminism\"|\"the last jedi\"|\"tlj\"|\"sj...</td>\n",
       "      <td>343058</td>\n",
       "      <td>27419</td>\n",
       "      <td>2081</td>\n",
       "      <td>10484</td>\n",
       "      <td>https://i.ytimg.com/vi/LPsRp7uUXUk/default.jpg</td>\n",
       "      <td>False</td>\n",
       "      <td>False</td>\n",
       "      <td>False</td>\n",
       "      <td>Spoiler: The Nazis win and this video is full ...</td>\n",
       "    </tr>\n",
       "    <tr>\n",
       "      <th>2</th>\n",
       "      <td>GB</td>\n",
       "      <td>DpSWgZVIfi8</td>\n",
       "      <td>17.24.11</td>\n",
       "      <td>SZA - Go Gina (Stripped) (Vevo LIFT)</td>\n",
       "      <td>SZAVEVO</td>\n",
       "      <td>10</td>\n",
       "      <td>2017-11-21T17:00:00.000Z</td>\n",
       "      <td>SZA|\"LIFT SZA\"|\"Vevo SZA\"|\"Go Gina\"|\"SZA Go Gi...</td>\n",
       "      <td>249899</td>\n",
       "      <td>22745</td>\n",
       "      <td>141</td>\n",
       "      <td>1016</td>\n",
       "      <td>https://i.ytimg.com/vi/DpSWgZVIfi8/default.jpg</td>\n",
       "      <td>False</td>\n",
       "      <td>False</td>\n",
       "      <td>False</td>\n",
       "      <td>SZA - Go Gina (Stripped LIFT)\\n\\nSZA is enjoyi...</td>\n",
       "    </tr>\n",
       "  </tbody>\n",
       "</table>\n",
       "</div>"
      ],
      "text/plain": [
       "  Country     video_id trending_date                                 title  \\\n",
       "0      GB  xvmTr6S00Aw      18.20.03               MY PARENTS DO MY MAKEUP   \n",
       "1      GB  LPsRp7uUXUk      17.22.12       Gender Wars: The Last Snowflake   \n",
       "2      GB  DpSWgZVIfi8      17.24.11  SZA - Go Gina (Stripped) (Vevo LIFT)   \n",
       "\n",
       "     channel_title  category_id              publish_time  \\\n",
       "0    James Charles           24  2018-02-27T22:02:48.000Z   \n",
       "1  Sargon of Akkad           25  2017-12-20T19:27:36.000Z   \n",
       "2          SZAVEVO           10  2017-11-21T17:00:00.000Z   \n",
       "\n",
       "                                                tags    views   likes  \\\n",
       "0  james|\"james charles\"|\"charles\"|\"makeup\"|\"mua\"...  3091882  241613   \n",
       "1  star wars|\"feminism\"|\"the last jedi\"|\"tlj\"|\"sj...   343058   27419   \n",
       "2  SZA|\"LIFT SZA\"|\"Vevo SZA\"|\"Go Gina\"|\"SZA Go Gi...   249899   22745   \n",
       "\n",
       "   dislikes  comment_count                                  thumbnail_link  \\\n",
       "0      4660          32132  https://i.ytimg.com/vi/xvmTr6S00Aw/default.jpg   \n",
       "1      2081          10484  https://i.ytimg.com/vi/LPsRp7uUXUk/default.jpg   \n",
       "2       141           1016  https://i.ytimg.com/vi/DpSWgZVIfi8/default.jpg   \n",
       "\n",
       "   comments_disabled  ratings_disabled  video_error_or_removed  \\\n",
       "0              False             False                   False   \n",
       "1              False             False                   False   \n",
       "2              False             False                   False   \n",
       "\n",
       "                                         description  \n",
       "0  HI SISTERS! You've met me, my daddy, all of my...  \n",
       "1  Spoiler: The Nazis win and this video is full ...  \n",
       "2  SZA - Go Gina (Stripped LIFT)\\n\\nSZA is enjoyi...  "
      ]
     },
     "execution_count": 27,
     "metadata": {},
     "output_type": "execute_result"
    }
   ],
   "source": [
    "df=youtubeUSGBIN.sample(frac=1).reset_index(drop=True) # shuffle the df for mixed country data and drop original index \n",
    "df.head(3) "
   ]
  },
  {
   "cell_type": "code",
   "execution_count": 28,
   "metadata": {},
   "outputs": [
    {
     "data": {
      "text/plain": [
       "0    18.20.03\n",
       "1    17.22.12\n",
       "2    17.24.11\n",
       "Name: trending_date, dtype: object"
      ]
     },
     "execution_count": 28,
     "metadata": {},
     "output_type": "execute_result"
    }
   ],
   "source": [
    "df[\"trending_date\"].head(3) #col to clean to transform"
   ]
  },
  {
   "cell_type": "code",
   "execution_count": 29,
   "metadata": {},
   "outputs": [
    {
     "data": {
      "text/plain": [
       "<class 'str'>    117217\n",
       "Name: trending_date, dtype: int64"
      ]
     },
     "execution_count": 29,
     "metadata": {},
     "output_type": "execute_result"
    }
   ],
   "source": [
    "df[\"trending_date\"].apply(type).value_counts() #see col type : is a string"
   ]
  },
  {
   "cell_type": "code",
   "execution_count": 30,
   "metadata": {},
   "outputs": [
    {
     "data": {
      "text/plain": [
       "0   2018-03-20\n",
       "1   2017-12-22\n",
       "2   2017-11-24\n",
       "Name: trending_date, dtype: datetime64[ns]"
      ]
     },
     "execution_count": 30,
     "metadata": {},
     "output_type": "execute_result"
    }
   ],
   "source": [
    "df[\"trending_date\"] = pd.to_datetime(df[\"trending_date\"], format = \"%y.%d.%m\") #convert to date time object with proper format\n",
    "df[\"trending_date\"].head(3)"
   ]
  },
  {
   "cell_type": "code",
   "execution_count": 31,
   "metadata": {},
   "outputs": [
    {
     "data": {
      "text/plain": [
       "0    2018-02-27T22:02:48.000Z\n",
       "1    2017-12-20T19:27:36.000Z\n",
       "2    2017-11-21T17:00:00.000Z\n",
       "Name: publish_time, dtype: object"
      ]
     },
     "execution_count": 31,
     "metadata": {},
     "output_type": "execute_result"
    }
   ],
   "source": [
    "df[\"publish_time\"].head(3) #col to clean and trasnform"
   ]
  },
  {
   "cell_type": "code",
   "execution_count": 32,
   "metadata": {},
   "outputs": [
    {
     "data": {
      "text/plain": [
       "<class 'str'>    117217\n",
       "Name: publish_time, dtype: int64"
      ]
     },
     "execution_count": 32,
     "metadata": {},
     "output_type": "execute_result"
    }
   ],
   "source": [
    "df[\"publish_time\"].apply(type).value_counts() #see col type : is a string"
   ]
  },
  {
   "cell_type": "code",
   "execution_count": 33,
   "metadata": {},
   "outputs": [
    {
     "data": {
      "text/plain": [
       "0    2018-02-27T22:02:48\n",
       "1    2017-12-20T19:27:36\n",
       "2    2017-11-21T17:00:00\n",
       "Name: publish_time, dtype: object"
      ]
     },
     "execution_count": 33,
     "metadata": {},
     "output_type": "execute_result"
    }
   ],
   "source": [
    "df[\"publish_time\"] = df[\"publish_time\"].str.replace(\"\\.\\d+Z\\Z\",\"\") #remove micro seconds and unwanted Z at end\n",
    "df[\"publish_time\"].head(3)"
   ]
  },
  {
   "cell_type": "code",
   "execution_count": 34,
   "metadata": {},
   "outputs": [
    {
     "data": {
      "text/html": [
       "<div>\n",
       "<style scoped>\n",
       "    .dataframe tbody tr th:only-of-type {\n",
       "        vertical-align: middle;\n",
       "    }\n",
       "\n",
       "    .dataframe tbody tr th {\n",
       "        vertical-align: top;\n",
       "    }\n",
       "\n",
       "    .dataframe thead th {\n",
       "        text-align: right;\n",
       "    }\n",
       "</style>\n",
       "<table border=\"1\" class=\"dataframe\">\n",
       "  <thead>\n",
       "    <tr style=\"text-align: right;\">\n",
       "      <th></th>\n",
       "      <th>Country</th>\n",
       "      <th>video_id</th>\n",
       "      <th>trending_date</th>\n",
       "      <th>title</th>\n",
       "      <th>channel_title</th>\n",
       "      <th>category_id</th>\n",
       "      <th>publish_time</th>\n",
       "      <th>tags</th>\n",
       "      <th>views</th>\n",
       "      <th>likes</th>\n",
       "      <th>dislikes</th>\n",
       "      <th>comment_count</th>\n",
       "      <th>thumbnail_link</th>\n",
       "      <th>comments_disabled</th>\n",
       "      <th>ratings_disabled</th>\n",
       "      <th>video_error_or_removed</th>\n",
       "      <th>description</th>\n",
       "      <th>publish_date</th>\n",
       "    </tr>\n",
       "  </thead>\n",
       "  <tbody>\n",
       "    <tr>\n",
       "      <th>0</th>\n",
       "      <td>GB</td>\n",
       "      <td>xvmTr6S00Aw</td>\n",
       "      <td>2018-03-20</td>\n",
       "      <td>MY PARENTS DO MY MAKEUP</td>\n",
       "      <td>James Charles</td>\n",
       "      <td>24</td>\n",
       "      <td>22:02:48</td>\n",
       "      <td>james|\"james charles\"|\"charles\"|\"makeup\"|\"mua\"...</td>\n",
       "      <td>3091882</td>\n",
       "      <td>241613</td>\n",
       "      <td>4660</td>\n",
       "      <td>32132</td>\n",
       "      <td>https://i.ytimg.com/vi/xvmTr6S00Aw/default.jpg</td>\n",
       "      <td>False</td>\n",
       "      <td>False</td>\n",
       "      <td>False</td>\n",
       "      <td>HI SISTERS! You've met me, my daddy, all of my...</td>\n",
       "      <td>2018-02-27</td>\n",
       "    </tr>\n",
       "    <tr>\n",
       "      <th>1</th>\n",
       "      <td>GB</td>\n",
       "      <td>LPsRp7uUXUk</td>\n",
       "      <td>2017-12-22</td>\n",
       "      <td>Gender Wars: The Last Snowflake</td>\n",
       "      <td>Sargon of Akkad</td>\n",
       "      <td>25</td>\n",
       "      <td>19:27:36</td>\n",
       "      <td>star wars|\"feminism\"|\"the last jedi\"|\"tlj\"|\"sj...</td>\n",
       "      <td>343058</td>\n",
       "      <td>27419</td>\n",
       "      <td>2081</td>\n",
       "      <td>10484</td>\n",
       "      <td>https://i.ytimg.com/vi/LPsRp7uUXUk/default.jpg</td>\n",
       "      <td>False</td>\n",
       "      <td>False</td>\n",
       "      <td>False</td>\n",
       "      <td>Spoiler: The Nazis win and this video is full ...</td>\n",
       "      <td>2017-12-20</td>\n",
       "    </tr>\n",
       "    <tr>\n",
       "      <th>2</th>\n",
       "      <td>GB</td>\n",
       "      <td>DpSWgZVIfi8</td>\n",
       "      <td>2017-11-24</td>\n",
       "      <td>SZA - Go Gina (Stripped) (Vevo LIFT)</td>\n",
       "      <td>SZAVEVO</td>\n",
       "      <td>10</td>\n",
       "      <td>17:00:00</td>\n",
       "      <td>SZA|\"LIFT SZA\"|\"Vevo SZA\"|\"Go Gina\"|\"SZA Go Gi...</td>\n",
       "      <td>249899</td>\n",
       "      <td>22745</td>\n",
       "      <td>141</td>\n",
       "      <td>1016</td>\n",
       "      <td>https://i.ytimg.com/vi/DpSWgZVIfi8/default.jpg</td>\n",
       "      <td>False</td>\n",
       "      <td>False</td>\n",
       "      <td>False</td>\n",
       "      <td>SZA - Go Gina (Stripped LIFT)\\n\\nSZA is enjoyi...</td>\n",
       "      <td>2017-11-21</td>\n",
       "    </tr>\n",
       "  </tbody>\n",
       "</table>\n",
       "</div>"
      ],
      "text/plain": [
       "  Country     video_id trending_date                                 title  \\\n",
       "0      GB  xvmTr6S00Aw    2018-03-20               MY PARENTS DO MY MAKEUP   \n",
       "1      GB  LPsRp7uUXUk    2017-12-22       Gender Wars: The Last Snowflake   \n",
       "2      GB  DpSWgZVIfi8    2017-11-24  SZA - Go Gina (Stripped) (Vevo LIFT)   \n",
       "\n",
       "     channel_title  category_id publish_time  \\\n",
       "0    James Charles           24     22:02:48   \n",
       "1  Sargon of Akkad           25     19:27:36   \n",
       "2          SZAVEVO           10     17:00:00   \n",
       "\n",
       "                                                tags    views   likes  \\\n",
       "0  james|\"james charles\"|\"charles\"|\"makeup\"|\"mua\"...  3091882  241613   \n",
       "1  star wars|\"feminism\"|\"the last jedi\"|\"tlj\"|\"sj...   343058   27419   \n",
       "2  SZA|\"LIFT SZA\"|\"Vevo SZA\"|\"Go Gina\"|\"SZA Go Gi...   249899   22745   \n",
       "\n",
       "   dislikes  comment_count                                  thumbnail_link  \\\n",
       "0      4660          32132  https://i.ytimg.com/vi/xvmTr6S00Aw/default.jpg   \n",
       "1      2081          10484  https://i.ytimg.com/vi/LPsRp7uUXUk/default.jpg   \n",
       "2       141           1016  https://i.ytimg.com/vi/DpSWgZVIfi8/default.jpg   \n",
       "\n",
       "   comments_disabled  ratings_disabled  video_error_or_removed  \\\n",
       "0              False             False                   False   \n",
       "1              False             False                   False   \n",
       "2              False             False                   False   \n",
       "\n",
       "                                         description publish_date  \n",
       "0  HI SISTERS! You've met me, my daddy, all of my...   2018-02-27  \n",
       "1  Spoiler: The Nazis win and this video is full ...   2017-12-20  \n",
       "2  SZA - Go Gina (Stripped LIFT)\\n\\nSZA is enjoyi...   2017-11-21  "
      ]
     },
     "execution_count": 34,
     "metadata": {},
     "output_type": "execute_result"
    }
   ],
   "source": [
    "df[\"publish_date\"] = df[\"publish_time\"].str.split(\"T\").str[0] #split on 'T' and form two seperate columns -date & time\n",
    "df[\"publish_time\"] = df[\"publish_time\"].str.split(\"T\").str[1]\n",
    "df.head(3)"
   ]
  },
  {
   "cell_type": "code",
   "execution_count": 35,
   "metadata": {},
   "outputs": [
    {
     "data": {
      "text/plain": [
       "0    2018-02-27\n",
       "1    2017-12-20\n",
       "2    2017-11-21\n",
       "Name: publish_date, dtype: object"
      ]
     },
     "execution_count": 35,
     "metadata": {},
     "output_type": "execute_result"
    }
   ],
   "source": [
    "df[\"publish_date\"].head(3) #col to convert to date"
   ]
  },
  {
   "cell_type": "code",
   "execution_count": 36,
   "metadata": {},
   "outputs": [
    {
     "data": {
      "text/plain": [
       "<class 'str'>    117217\n",
       "Name: publish_date, dtype: int64"
      ]
     },
     "execution_count": 36,
     "metadata": {},
     "output_type": "execute_result"
    }
   ],
   "source": [
    "df[\"publish_date\"].apply(type).value_counts() #col is a string "
   ]
  },
  {
   "cell_type": "code",
   "execution_count": 37,
   "metadata": {},
   "outputs": [
    {
     "data": {
      "text/plain": [
       "0   2018-02-27\n",
       "1   2017-12-20\n",
       "2   2017-11-21\n",
       "Name: publish_date, dtype: datetime64[ns]"
      ]
     },
     "execution_count": 37,
     "metadata": {},
     "output_type": "execute_result"
    }
   ],
   "source": [
    "df[\"publish_date\"] = pd.to_datetime(df[\"publish_date\"], format = \"%Y.%m.%d\") #convert to date time object with proper format\n",
    "df[\"publish_date\"].head(3)"
   ]
  },
  {
   "cell_type": "code",
   "execution_count": 38,
   "metadata": {},
   "outputs": [
    {
     "data": {
      "text/html": [
       "<div>\n",
       "<style scoped>\n",
       "    .dataframe tbody tr th:only-of-type {\n",
       "        vertical-align: middle;\n",
       "    }\n",
       "\n",
       "    .dataframe tbody tr th {\n",
       "        vertical-align: top;\n",
       "    }\n",
       "\n",
       "    .dataframe thead th {\n",
       "        text-align: right;\n",
       "    }\n",
       "</style>\n",
       "<table border=\"1\" class=\"dataframe\">\n",
       "  <thead>\n",
       "    <tr style=\"text-align: right;\">\n",
       "      <th></th>\n",
       "      <th>Country</th>\n",
       "      <th>video_id</th>\n",
       "      <th>trending_date</th>\n",
       "      <th>title</th>\n",
       "      <th>channel_title</th>\n",
       "      <th>category_id</th>\n",
       "      <th>publish_time</th>\n",
       "      <th>tags</th>\n",
       "      <th>views</th>\n",
       "      <th>likes</th>\n",
       "      <th>dislikes</th>\n",
       "      <th>comment_count</th>\n",
       "      <th>thumbnail_link</th>\n",
       "      <th>comments_disabled</th>\n",
       "      <th>ratings_disabled</th>\n",
       "      <th>video_error_or_removed</th>\n",
       "      <th>description</th>\n",
       "      <th>publish_date</th>\n",
       "      <th>time_to_trend</th>\n",
       "    </tr>\n",
       "  </thead>\n",
       "  <tbody>\n",
       "    <tr>\n",
       "      <th>0</th>\n",
       "      <td>GB</td>\n",
       "      <td>xvmTr6S00Aw</td>\n",
       "      <td>2018-03-20</td>\n",
       "      <td>MY PARENTS DO MY MAKEUP</td>\n",
       "      <td>James Charles</td>\n",
       "      <td>24</td>\n",
       "      <td>22:02:48</td>\n",
       "      <td>james|\"james charles\"|\"charles\"|\"makeup\"|\"mua\"...</td>\n",
       "      <td>3091882</td>\n",
       "      <td>241613</td>\n",
       "      <td>4660</td>\n",
       "      <td>32132</td>\n",
       "      <td>https://i.ytimg.com/vi/xvmTr6S00Aw/default.jpg</td>\n",
       "      <td>False</td>\n",
       "      <td>False</td>\n",
       "      <td>False</td>\n",
       "      <td>HI SISTERS! You've met me, my daddy, all of my...</td>\n",
       "      <td>2018-02-27</td>\n",
       "      <td>21 days</td>\n",
       "    </tr>\n",
       "    <tr>\n",
       "      <th>1</th>\n",
       "      <td>GB</td>\n",
       "      <td>LPsRp7uUXUk</td>\n",
       "      <td>2017-12-22</td>\n",
       "      <td>Gender Wars: The Last Snowflake</td>\n",
       "      <td>Sargon of Akkad</td>\n",
       "      <td>25</td>\n",
       "      <td>19:27:36</td>\n",
       "      <td>star wars|\"feminism\"|\"the last jedi\"|\"tlj\"|\"sj...</td>\n",
       "      <td>343058</td>\n",
       "      <td>27419</td>\n",
       "      <td>2081</td>\n",
       "      <td>10484</td>\n",
       "      <td>https://i.ytimg.com/vi/LPsRp7uUXUk/default.jpg</td>\n",
       "      <td>False</td>\n",
       "      <td>False</td>\n",
       "      <td>False</td>\n",
       "      <td>Spoiler: The Nazis win and this video is full ...</td>\n",
       "      <td>2017-12-20</td>\n",
       "      <td>2 days</td>\n",
       "    </tr>\n",
       "    <tr>\n",
       "      <th>2</th>\n",
       "      <td>GB</td>\n",
       "      <td>DpSWgZVIfi8</td>\n",
       "      <td>2017-11-24</td>\n",
       "      <td>SZA - Go Gina (Stripped) (Vevo LIFT)</td>\n",
       "      <td>SZAVEVO</td>\n",
       "      <td>10</td>\n",
       "      <td>17:00:00</td>\n",
       "      <td>SZA|\"LIFT SZA\"|\"Vevo SZA\"|\"Go Gina\"|\"SZA Go Gi...</td>\n",
       "      <td>249899</td>\n",
       "      <td>22745</td>\n",
       "      <td>141</td>\n",
       "      <td>1016</td>\n",
       "      <td>https://i.ytimg.com/vi/DpSWgZVIfi8/default.jpg</td>\n",
       "      <td>False</td>\n",
       "      <td>False</td>\n",
       "      <td>False</td>\n",
       "      <td>SZA - Go Gina (Stripped LIFT)\\n\\nSZA is enjoyi...</td>\n",
       "      <td>2017-11-21</td>\n",
       "      <td>3 days</td>\n",
       "    </tr>\n",
       "  </tbody>\n",
       "</table>\n",
       "</div>"
      ],
      "text/plain": [
       "  Country     video_id trending_date                                 title  \\\n",
       "0      GB  xvmTr6S00Aw    2018-03-20               MY PARENTS DO MY MAKEUP   \n",
       "1      GB  LPsRp7uUXUk    2017-12-22       Gender Wars: The Last Snowflake   \n",
       "2      GB  DpSWgZVIfi8    2017-11-24  SZA - Go Gina (Stripped) (Vevo LIFT)   \n",
       "\n",
       "     channel_title  category_id publish_time  \\\n",
       "0    James Charles           24     22:02:48   \n",
       "1  Sargon of Akkad           25     19:27:36   \n",
       "2          SZAVEVO           10     17:00:00   \n",
       "\n",
       "                                                tags    views   likes  \\\n",
       "0  james|\"james charles\"|\"charles\"|\"makeup\"|\"mua\"...  3091882  241613   \n",
       "1  star wars|\"feminism\"|\"the last jedi\"|\"tlj\"|\"sj...   343058   27419   \n",
       "2  SZA|\"LIFT SZA\"|\"Vevo SZA\"|\"Go Gina\"|\"SZA Go Gi...   249899   22745   \n",
       "\n",
       "   dislikes  comment_count                                  thumbnail_link  \\\n",
       "0      4660          32132  https://i.ytimg.com/vi/xvmTr6S00Aw/default.jpg   \n",
       "1      2081          10484  https://i.ytimg.com/vi/LPsRp7uUXUk/default.jpg   \n",
       "2       141           1016  https://i.ytimg.com/vi/DpSWgZVIfi8/default.jpg   \n",
       "\n",
       "   comments_disabled  ratings_disabled  video_error_or_removed  \\\n",
       "0              False             False                   False   \n",
       "1              False             False                   False   \n",
       "2              False             False                   False   \n",
       "\n",
       "                                         description publish_date  \\\n",
       "0  HI SISTERS! You've met me, my daddy, all of my...   2018-02-27   \n",
       "1  Spoiler: The Nazis win and this video is full ...   2017-12-20   \n",
       "2  SZA - Go Gina (Stripped LIFT)\\n\\nSZA is enjoyi...   2017-11-21   \n",
       "\n",
       "  time_to_trend  \n",
       "0       21 days  \n",
       "1        2 days  \n",
       "2        3 days  "
      ]
     },
     "execution_count": 38,
     "metadata": {},
     "output_type": "execute_result"
    }
   ],
   "source": [
    "df[\"time_to_trend\"] = df[\"trending_date\"]-df[\"publish_date\"] #time to trend for a video  - timedelta object\n",
    "df.head(3)"
   ]
  },
  {
   "cell_type": "code",
   "execution_count": 39,
   "metadata": {},
   "outputs": [
    {
     "data": {
      "text/plain": [
       "<class 'pandas._libs.tslibs.timedeltas.Timedelta'>    117217\n",
       "Name: time_to_trend, dtype: int64"
      ]
     },
     "execution_count": 39,
     "metadata": {},
     "output_type": "execute_result"
    }
   ],
   "source": [
    "df[\"time_to_trend\"].apply(type).value_counts() #time delta object"
   ]
  },
  {
   "cell_type": "code",
   "execution_count": 40,
   "metadata": {},
   "outputs": [
    {
     "data": {
      "text/plain": [
       "0   7 days 00:00:00\n",
       "1   0 days 16:00:00\n",
       "2   1 days 00:00:00\n",
       "Name: time_to_trend, dtype: timedelta64[ns]"
      ]
     },
     "execution_count": 40,
     "metadata": {},
     "output_type": "execute_result"
    }
   ],
   "source": [
    "df[\"time_to_trend\"].head(3)/3 #arithmetic operations possible on this !!"
   ]
  },
  {
   "cell_type": "code",
   "execution_count": 41,
   "metadata": {},
   "outputs": [
    {
     "data": {
      "text/plain": [
       "Timedelta('4215 days 00:00:00')"
      ]
     },
     "execution_count": 41,
     "metadata": {},
     "output_type": "execute_result"
    }
   ],
   "source": [
    "df[\"time_to_trend\"].max() #max trend time"
   ]
  },
  {
   "cell_type": "code",
   "execution_count": 42,
   "metadata": {},
   "outputs": [
    {
     "data": {
      "text/plain": [
       "Country                            object\n",
       "video_id                           object\n",
       "trending_date              datetime64[ns]\n",
       "title                              object\n",
       "channel_title                      object\n",
       "category_id                         int64\n",
       "publish_time                       object\n",
       "tags                               object\n",
       "views                               int64\n",
       "likes                               int64\n",
       "dislikes                            int64\n",
       "comment_count                       int64\n",
       "thumbnail_link                     object\n",
       "comments_disabled                    bool\n",
       "ratings_disabled                     bool\n",
       "video_error_or_removed               bool\n",
       "description                        object\n",
       "publish_date               datetime64[ns]\n",
       "time_to_trend             timedelta64[ns]\n",
       "dtype: object"
      ]
     },
     "execution_count": 42,
     "metadata": {},
     "output_type": "execute_result"
    }
   ],
   "source": [
    "df.dtypes #check all col data type again"
   ]
  },
  {
   "cell_type": "code",
   "execution_count": 43,
   "metadata": {},
   "outputs": [
    {
     "data": {
      "text/plain": [
       "0    james|\"james charles\"|\"charles\"|\"makeup\"|\"mua\"...\n",
       "1    star wars|\"feminism\"|\"the last jedi\"|\"tlj\"|\"sj...\n",
       "2    SZA|\"LIFT SZA\"|\"Vevo SZA\"|\"Go Gina\"|\"SZA Go Gi...\n",
       "Name: tags, dtype: object"
      ]
     },
     "execution_count": 43,
     "metadata": {},
     "output_type": "execute_result"
    }
   ],
   "source": [
    "df[\"tags\"].head(3) #col to extract information"
   ]
  },
  {
   "cell_type": "code",
   "execution_count": 44,
   "metadata": {},
   "outputs": [
    {
     "data": {
      "text/plain": [
       "<class 'str'>    117217\n",
       "Name: tags, dtype: int64"
      ]
     },
     "execution_count": 44,
     "metadata": {},
     "output_type": "execute_result"
    }
   ],
   "source": [
    "df[\"tags\"].apply(type).value_counts() #object with all rows in col as string"
   ]
  },
  {
   "cell_type": "code",
   "execution_count": 45,
   "metadata": {},
   "outputs": [
    {
     "data": {
      "text/plain": [
       "[41, 14, 26, 36, 24, 6, 6, 39, 18, 7]"
      ]
     },
     "execution_count": 45,
     "metadata": {},
     "output_type": "execute_result"
    }
   ],
   "source": [
    "countlist=[]\n",
    "for i in df[\"tags\"]: #count the no. of tags ( pipes '|' plus one if any tags exist) to see if tag affects popularity\n",
    "    if(\"|\" in i):\n",
    "        count=1\n",
    "        for j in i:\n",
    "            if(j == \"|\"):\n",
    "                count+=1\n",
    "        countlist.append(count)\n",
    "    else:\n",
    "        countlist.append(0)\n",
    "\n",
    "countlist[40:50] #see 10 random tag counts"
   ]
  },
  {
   "cell_type": "code",
   "execution_count": 46,
   "metadata": {},
   "outputs": [
    {
     "data": {
      "text/html": [
       "<div>\n",
       "<style scoped>\n",
       "    .dataframe tbody tr th:only-of-type {\n",
       "        vertical-align: middle;\n",
       "    }\n",
       "\n",
       "    .dataframe tbody tr th {\n",
       "        vertical-align: top;\n",
       "    }\n",
       "\n",
       "    .dataframe thead th {\n",
       "        text-align: right;\n",
       "    }\n",
       "</style>\n",
       "<table border=\"1\" class=\"dataframe\">\n",
       "  <thead>\n",
       "    <tr style=\"text-align: right;\">\n",
       "      <th></th>\n",
       "      <th>Country</th>\n",
       "      <th>video_id</th>\n",
       "      <th>trending_date</th>\n",
       "      <th>title</th>\n",
       "      <th>channel_title</th>\n",
       "      <th>category_id</th>\n",
       "      <th>publish_time</th>\n",
       "      <th>tags</th>\n",
       "      <th>views</th>\n",
       "      <th>likes</th>\n",
       "      <th>dislikes</th>\n",
       "      <th>comment_count</th>\n",
       "      <th>thumbnail_link</th>\n",
       "      <th>comments_disabled</th>\n",
       "      <th>ratings_disabled</th>\n",
       "      <th>video_error_or_removed</th>\n",
       "      <th>description</th>\n",
       "      <th>publish_date</th>\n",
       "      <th>time_to_trend</th>\n",
       "      <th>Tag_count</th>\n",
       "    </tr>\n",
       "  </thead>\n",
       "  <tbody>\n",
       "    <tr>\n",
       "      <th>0</th>\n",
       "      <td>GB</td>\n",
       "      <td>xvmTr6S00Aw</td>\n",
       "      <td>2018-03-20</td>\n",
       "      <td>MY PARENTS DO MY MAKEUP</td>\n",
       "      <td>James Charles</td>\n",
       "      <td>24</td>\n",
       "      <td>22:02:48</td>\n",
       "      <td>james|\"james charles\"|\"charles\"|\"makeup\"|\"mua\"...</td>\n",
       "      <td>3091882</td>\n",
       "      <td>241613</td>\n",
       "      <td>4660</td>\n",
       "      <td>32132</td>\n",
       "      <td>https://i.ytimg.com/vi/xvmTr6S00Aw/default.jpg</td>\n",
       "      <td>False</td>\n",
       "      <td>False</td>\n",
       "      <td>False</td>\n",
       "      <td>HI SISTERS! You've met me, my daddy, all of my...</td>\n",
       "      <td>2018-02-27</td>\n",
       "      <td>21 days</td>\n",
       "      <td>24</td>\n",
       "    </tr>\n",
       "    <tr>\n",
       "      <th>1</th>\n",
       "      <td>GB</td>\n",
       "      <td>LPsRp7uUXUk</td>\n",
       "      <td>2017-12-22</td>\n",
       "      <td>Gender Wars: The Last Snowflake</td>\n",
       "      <td>Sargon of Akkad</td>\n",
       "      <td>25</td>\n",
       "      <td>19:27:36</td>\n",
       "      <td>star wars|\"feminism\"|\"the last jedi\"|\"tlj\"|\"sj...</td>\n",
       "      <td>343058</td>\n",
       "      <td>27419</td>\n",
       "      <td>2081</td>\n",
       "      <td>10484</td>\n",
       "      <td>https://i.ytimg.com/vi/LPsRp7uUXUk/default.jpg</td>\n",
       "      <td>False</td>\n",
       "      <td>False</td>\n",
       "      <td>False</td>\n",
       "      <td>Spoiler: The Nazis win and this video is full ...</td>\n",
       "      <td>2017-12-20</td>\n",
       "      <td>2 days</td>\n",
       "      <td>10</td>\n",
       "    </tr>\n",
       "    <tr>\n",
       "      <th>2</th>\n",
       "      <td>GB</td>\n",
       "      <td>DpSWgZVIfi8</td>\n",
       "      <td>2017-11-24</td>\n",
       "      <td>SZA - Go Gina (Stripped) (Vevo LIFT)</td>\n",
       "      <td>SZAVEVO</td>\n",
       "      <td>10</td>\n",
       "      <td>17:00:00</td>\n",
       "      <td>SZA|\"LIFT SZA\"|\"Vevo SZA\"|\"Go Gina\"|\"SZA Go Gi...</td>\n",
       "      <td>249899</td>\n",
       "      <td>22745</td>\n",
       "      <td>141</td>\n",
       "      <td>1016</td>\n",
       "      <td>https://i.ytimg.com/vi/DpSWgZVIfi8/default.jpg</td>\n",
       "      <td>False</td>\n",
       "      <td>False</td>\n",
       "      <td>False</td>\n",
       "      <td>SZA - Go Gina (Stripped LIFT)\\n\\nSZA is enjoyi...</td>\n",
       "      <td>2017-11-21</td>\n",
       "      <td>3 days</td>\n",
       "      <td>16</td>\n",
       "    </tr>\n",
       "  </tbody>\n",
       "</table>\n",
       "</div>"
      ],
      "text/plain": [
       "  Country     video_id trending_date                                 title  \\\n",
       "0      GB  xvmTr6S00Aw    2018-03-20               MY PARENTS DO MY MAKEUP   \n",
       "1      GB  LPsRp7uUXUk    2017-12-22       Gender Wars: The Last Snowflake   \n",
       "2      GB  DpSWgZVIfi8    2017-11-24  SZA - Go Gina (Stripped) (Vevo LIFT)   \n",
       "\n",
       "     channel_title  category_id publish_time  \\\n",
       "0    James Charles           24     22:02:48   \n",
       "1  Sargon of Akkad           25     19:27:36   \n",
       "2          SZAVEVO           10     17:00:00   \n",
       "\n",
       "                                                tags    views   likes  \\\n",
       "0  james|\"james charles\"|\"charles\"|\"makeup\"|\"mua\"...  3091882  241613   \n",
       "1  star wars|\"feminism\"|\"the last jedi\"|\"tlj\"|\"sj...   343058   27419   \n",
       "2  SZA|\"LIFT SZA\"|\"Vevo SZA\"|\"Go Gina\"|\"SZA Go Gi...   249899   22745   \n",
       "\n",
       "   dislikes  comment_count                                  thumbnail_link  \\\n",
       "0      4660          32132  https://i.ytimg.com/vi/xvmTr6S00Aw/default.jpg   \n",
       "1      2081          10484  https://i.ytimg.com/vi/LPsRp7uUXUk/default.jpg   \n",
       "2       141           1016  https://i.ytimg.com/vi/DpSWgZVIfi8/default.jpg   \n",
       "\n",
       "   comments_disabled  ratings_disabled  video_error_or_removed  \\\n",
       "0              False             False                   False   \n",
       "1              False             False                   False   \n",
       "2              False             False                   False   \n",
       "\n",
       "                                         description publish_date  \\\n",
       "0  HI SISTERS! You've met me, my daddy, all of my...   2018-02-27   \n",
       "1  Spoiler: The Nazis win and this video is full ...   2017-12-20   \n",
       "2  SZA - Go Gina (Stripped LIFT)\\n\\nSZA is enjoyi...   2017-11-21   \n",
       "\n",
       "  time_to_trend  Tag_count  \n",
       "0       21 days         24  \n",
       "1        2 days         10  \n",
       "2        3 days         16  "
      ]
     },
     "execution_count": 46,
     "metadata": {},
     "output_type": "execute_result"
    }
   ],
   "source": [
    "df[\"Tag_count\"]= countlist #add a col for tag count\n",
    "df.head(3)"
   ]
  },
  {
   "cell_type": "code",
   "execution_count": 47,
   "metadata": {},
   "outputs": [
    {
     "data": {
      "text/plain": [
       "<class 'int'>    117217\n",
       "Name: Tag_count, dtype: int64"
      ]
     },
     "execution_count": 47,
     "metadata": {},
     "output_type": "execute_result"
    }
   ],
   "source": [
    "df[\"Tag_count\"].apply(type).value_counts() #col is an integer"
   ]
  },
  {
   "cell_type": "code",
   "execution_count": 48,
   "metadata": {},
   "outputs": [
    {
     "data": {
      "text/html": [
       "<div>\n",
       "<style scoped>\n",
       "    .dataframe tbody tr th:only-of-type {\n",
       "        vertical-align: middle;\n",
       "    }\n",
       "\n",
       "    .dataframe tbody tr th {\n",
       "        vertical-align: top;\n",
       "    }\n",
       "\n",
       "    .dataframe thead th {\n",
       "        text-align: right;\n",
       "    }\n",
       "</style>\n",
       "<table border=\"1\" class=\"dataframe\">\n",
       "  <thead>\n",
       "    <tr style=\"text-align: right;\">\n",
       "      <th></th>\n",
       "      <th>category_id</th>\n",
       "      <th>views</th>\n",
       "      <th>likes</th>\n",
       "      <th>dislikes</th>\n",
       "      <th>comment_count</th>\n",
       "      <th>comments_disabled</th>\n",
       "      <th>ratings_disabled</th>\n",
       "      <th>video_error_or_removed</th>\n",
       "      <th>Tag_count</th>\n",
       "    </tr>\n",
       "  </thead>\n",
       "  <tbody>\n",
       "    <tr>\n",
       "      <th>category_id</th>\n",
       "      <td>1.000000</td>\n",
       "      <td>-0.183595</td>\n",
       "      <td>-0.198128</td>\n",
       "      <td>-0.043120</td>\n",
       "      <td>-0.084678</td>\n",
       "      <td>0.046372</td>\n",
       "      <td>0.015441</td>\n",
       "      <td>-0.025835</td>\n",
       "      <td>0.102668</td>\n",
       "    </tr>\n",
       "    <tr>\n",
       "      <th>views</th>\n",
       "      <td>-0.183595</td>\n",
       "      <td>1.000000</td>\n",
       "      <td>0.794798</td>\n",
       "      <td>0.410891</td>\n",
       "      <td>0.496715</td>\n",
       "      <td>-0.011090</td>\n",
       "      <td>-0.003056</td>\n",
       "      <td>0.010737</td>\n",
       "      <td>-0.027223</td>\n",
       "    </tr>\n",
       "    <tr>\n",
       "      <th>likes</th>\n",
       "      <td>-0.198128</td>\n",
       "      <td>0.794798</td>\n",
       "      <td>1.000000</td>\n",
       "      <td>0.452533</td>\n",
       "      <td>0.766640</td>\n",
       "      <td>-0.038504</td>\n",
       "      <td>-0.032181</td>\n",
       "      <td>0.010439</td>\n",
       "      <td>-0.048057</td>\n",
       "    </tr>\n",
       "    <tr>\n",
       "      <th>dislikes</th>\n",
       "      <td>-0.043120</td>\n",
       "      <td>0.410891</td>\n",
       "      <td>0.452533</td>\n",
       "      <td>1.000000</td>\n",
       "      <td>0.742981</td>\n",
       "      <td>-0.009419</td>\n",
       "      <td>-0.012668</td>\n",
       "      <td>0.009101</td>\n",
       "      <td>0.013538</td>\n",
       "    </tr>\n",
       "    <tr>\n",
       "      <th>comment_count</th>\n",
       "      <td>-0.084678</td>\n",
       "      <td>0.496715</td>\n",
       "      <td>0.766640</td>\n",
       "      <td>0.742981</td>\n",
       "      <td>1.000000</td>\n",
       "      <td>-0.031945</td>\n",
       "      <td>-0.021371</td>\n",
       "      <td>0.004624</td>\n",
       "      <td>-0.011302</td>\n",
       "    </tr>\n",
       "    <tr>\n",
       "      <th>comments_disabled</th>\n",
       "      <td>0.046372</td>\n",
       "      <td>-0.011090</td>\n",
       "      <td>-0.038504</td>\n",
       "      <td>-0.009419</td>\n",
       "      <td>-0.031945</td>\n",
       "      <td>1.000000</td>\n",
       "      <td>0.384370</td>\n",
       "      <td>-0.004396</td>\n",
       "      <td>-0.034442</td>\n",
       "    </tr>\n",
       "    <tr>\n",
       "      <th>ratings_disabled</th>\n",
       "      <td>0.015441</td>\n",
       "      <td>-0.003056</td>\n",
       "      <td>-0.032181</td>\n",
       "      <td>-0.012668</td>\n",
       "      <td>-0.021371</td>\n",
       "      <td>0.384370</td>\n",
       "      <td>1.000000</td>\n",
       "      <td>-0.003044</td>\n",
       "      <td>-0.051538</td>\n",
       "    </tr>\n",
       "    <tr>\n",
       "      <th>video_error_or_removed</th>\n",
       "      <td>-0.025835</td>\n",
       "      <td>0.010737</td>\n",
       "      <td>0.010439</td>\n",
       "      <td>0.009101</td>\n",
       "      <td>0.004624</td>\n",
       "      <td>-0.004396</td>\n",
       "      <td>-0.003044</td>\n",
       "      <td>1.000000</td>\n",
       "      <td>0.005488</td>\n",
       "    </tr>\n",
       "    <tr>\n",
       "      <th>Tag_count</th>\n",
       "      <td>0.102668</td>\n",
       "      <td>-0.027223</td>\n",
       "      <td>-0.048057</td>\n",
       "      <td>0.013538</td>\n",
       "      <td>-0.011302</td>\n",
       "      <td>-0.034442</td>\n",
       "      <td>-0.051538</td>\n",
       "      <td>0.005488</td>\n",
       "      <td>1.000000</td>\n",
       "    </tr>\n",
       "  </tbody>\n",
       "</table>\n",
       "</div>"
      ],
      "text/plain": [
       "                        category_id     views     likes  dislikes  \\\n",
       "category_id                1.000000 -0.183595 -0.198128 -0.043120   \n",
       "views                     -0.183595  1.000000  0.794798  0.410891   \n",
       "likes                     -0.198128  0.794798  1.000000  0.452533   \n",
       "dislikes                  -0.043120  0.410891  0.452533  1.000000   \n",
       "comment_count             -0.084678  0.496715  0.766640  0.742981   \n",
       "comments_disabled          0.046372 -0.011090 -0.038504 -0.009419   \n",
       "ratings_disabled           0.015441 -0.003056 -0.032181 -0.012668   \n",
       "video_error_or_removed    -0.025835  0.010737  0.010439  0.009101   \n",
       "Tag_count                  0.102668 -0.027223 -0.048057  0.013538   \n",
       "\n",
       "                        comment_count  comments_disabled  ratings_disabled  \\\n",
       "category_id                 -0.084678           0.046372          0.015441   \n",
       "views                        0.496715          -0.011090         -0.003056   \n",
       "likes                        0.766640          -0.038504         -0.032181   \n",
       "dislikes                     0.742981          -0.009419         -0.012668   \n",
       "comment_count                1.000000          -0.031945         -0.021371   \n",
       "comments_disabled           -0.031945           1.000000          0.384370   \n",
       "ratings_disabled            -0.021371           0.384370          1.000000   \n",
       "video_error_or_removed       0.004624          -0.004396         -0.003044   \n",
       "Tag_count                   -0.011302          -0.034442         -0.051538   \n",
       "\n",
       "                        video_error_or_removed  Tag_count  \n",
       "category_id                          -0.025835   0.102668  \n",
       "views                                 0.010737  -0.027223  \n",
       "likes                                 0.010439  -0.048057  \n",
       "dislikes                              0.009101   0.013538  \n",
       "comment_count                         0.004624  -0.011302  \n",
       "comments_disabled                    -0.004396  -0.034442  \n",
       "ratings_disabled                     -0.003044  -0.051538  \n",
       "video_error_or_removed                1.000000   0.005488  \n",
       "Tag_count                             0.005488   1.000000  "
      ]
     },
     "execution_count": 48,
     "metadata": {},
     "output_type": "execute_result"
    }
   ],
   "source": [
    "df.corr() #correlation matrix"
   ]
  },
  {
   "cell_type": "markdown",
   "metadata": {},
   "source": [
    "## Fetching the categories from the json files to df dataframe"
   ]
  },
  {
   "cell_type": "code",
   "execution_count": 49,
   "metadata": {},
   "outputs": [
    {
     "data": {
      "text/html": [
       "<div>\n",
       "<style scoped>\n",
       "    .dataframe tbody tr th:only-of-type {\n",
       "        vertical-align: middle;\n",
       "    }\n",
       "\n",
       "    .dataframe tbody tr th {\n",
       "        vertical-align: top;\n",
       "    }\n",
       "\n",
       "    .dataframe thead th {\n",
       "        text-align: right;\n",
       "    }\n",
       "</style>\n",
       "<table border=\"1\" class=\"dataframe\">\n",
       "  <thead>\n",
       "    <tr style=\"text-align: right;\">\n",
       "      <th></th>\n",
       "      <th>kind</th>\n",
       "      <th>etag</th>\n",
       "      <th>items</th>\n",
       "    </tr>\n",
       "  </thead>\n",
       "  <tbody>\n",
       "    <tr>\n",
       "      <th>0</th>\n",
       "      <td>youtube#videoCategoryListResponse</td>\n",
       "      <td>\"XI7nbFXulYBIpL0ayR_gDh3eu1k/1v2mrzYSYG6onNLt2...</td>\n",
       "      <td>{'kind': 'youtube#videoCategory', 'etag': '\"XI...</td>\n",
       "    </tr>\n",
       "    <tr>\n",
       "      <th>1</th>\n",
       "      <td>youtube#videoCategoryListResponse</td>\n",
       "      <td>\"XI7nbFXulYBIpL0ayR_gDh3eu1k/1v2mrzYSYG6onNLt2...</td>\n",
       "      <td>{'kind': 'youtube#videoCategory', 'etag': '\"XI...</td>\n",
       "    </tr>\n",
       "    <tr>\n",
       "      <th>2</th>\n",
       "      <td>youtube#videoCategoryListResponse</td>\n",
       "      <td>\"XI7nbFXulYBIpL0ayR_gDh3eu1k/1v2mrzYSYG6onNLt2...</td>\n",
       "      <td>{'kind': 'youtube#videoCategory', 'etag': '\"XI...</td>\n",
       "    </tr>\n",
       "    <tr>\n",
       "      <th>3</th>\n",
       "      <td>youtube#videoCategoryListResponse</td>\n",
       "      <td>\"XI7nbFXulYBIpL0ayR_gDh3eu1k/1v2mrzYSYG6onNLt2...</td>\n",
       "      <td>{'kind': 'youtube#videoCategory', 'etag': '\"XI...</td>\n",
       "    </tr>\n",
       "    <tr>\n",
       "      <th>4</th>\n",
       "      <td>youtube#videoCategoryListResponse</td>\n",
       "      <td>\"XI7nbFXulYBIpL0ayR_gDh3eu1k/1v2mrzYSYG6onNLt2...</td>\n",
       "      <td>{'kind': 'youtube#videoCategory', 'etag': '\"XI...</td>\n",
       "    </tr>\n",
       "  </tbody>\n",
       "</table>\n",
       "</div>"
      ],
      "text/plain": [
       "                                kind  \\\n",
       "0  youtube#videoCategoryListResponse   \n",
       "1  youtube#videoCategoryListResponse   \n",
       "2  youtube#videoCategoryListResponse   \n",
       "3  youtube#videoCategoryListResponse   \n",
       "4  youtube#videoCategoryListResponse   \n",
       "\n",
       "                                                etag  \\\n",
       "0  \"XI7nbFXulYBIpL0ayR_gDh3eu1k/1v2mrzYSYG6onNLt2...   \n",
       "1  \"XI7nbFXulYBIpL0ayR_gDh3eu1k/1v2mrzYSYG6onNLt2...   \n",
       "2  \"XI7nbFXulYBIpL0ayR_gDh3eu1k/1v2mrzYSYG6onNLt2...   \n",
       "3  \"XI7nbFXulYBIpL0ayR_gDh3eu1k/1v2mrzYSYG6onNLt2...   \n",
       "4  \"XI7nbFXulYBIpL0ayR_gDh3eu1k/1v2mrzYSYG6onNLt2...   \n",
       "\n",
       "                                               items  \n",
       "0  {'kind': 'youtube#videoCategory', 'etag': '\"XI...  \n",
       "1  {'kind': 'youtube#videoCategory', 'etag': '\"XI...  \n",
       "2  {'kind': 'youtube#videoCategory', 'etag': '\"XI...  \n",
       "3  {'kind': 'youtube#videoCategory', 'etag': '\"XI...  \n",
       "4  {'kind': 'youtube#videoCategory', 'etag': '\"XI...  "
      ]
     },
     "execution_count": 49,
     "metadata": {},
     "output_type": "execute_result"
    }
   ],
   "source": [
    "in_json.head()"
   ]
  },
  {
   "cell_type": "raw",
   "metadata": {},
   "source": [
    "The required category ids and categories are present in the items field of the in_json file. To fetch the required columns taking into consideration only the \"items\" field"
   ]
  },
  {
   "cell_type": "code",
   "execution_count": 50,
   "metadata": {},
   "outputs": [],
   "source": [
    "#getting the ids and categories from India\n",
    "recs=in_json['items']\n",
    "in_cat=json_normalize(recs)[['id','snippet.title']]\n",
    "#getting the ids and categories from USA\n",
    "recs_us=us_json['items']\n",
    "us_cat=json_normalize(recs_us)[['id','snippet.title']]\n",
    "#getting the ids and categories from GB\n",
    "recs_gb=gb_json['items']\n",
    "gb_cat=json_normalize(recs_gb)[['id','snippet.title']]\n",
    "#merging indian and USA categories\n",
    "categories=pd.merge(in_cat,us_cat,on='id',how='outer')\n",
    "#merging categories with GB categories\n",
    "categories=pd.merge(categories,gb_cat,on='id',how='outer')\n",
    "#dropping unnecessary columns\n",
    "categories=categories.drop(['snippet.title_x','snippet.title'],axis=1).rename(columns={'snippet.title_y':'category'})"
   ]
  },
  {
   "cell_type": "code",
   "execution_count": 51,
   "metadata": {},
   "outputs": [
    {
     "data": {
      "text/plain": [
       "id          object\n",
       "category    object\n",
       "dtype: object"
      ]
     },
     "execution_count": 51,
     "metadata": {},
     "output_type": "execute_result"
    }
   ],
   "source": [
    "categories.dtypes"
   ]
  },
  {
   "cell_type": "code",
   "execution_count": 52,
   "metadata": {},
   "outputs": [
    {
     "data": {
      "text/plain": [
       "Country                            object\n",
       "video_id                           object\n",
       "trending_date              datetime64[ns]\n",
       "title                              object\n",
       "channel_title                      object\n",
       "category_id                         int64\n",
       "publish_time                       object\n",
       "tags                               object\n",
       "views                               int64\n",
       "likes                               int64\n",
       "dislikes                            int64\n",
       "comment_count                       int64\n",
       "thumbnail_link                     object\n",
       "comments_disabled                    bool\n",
       "ratings_disabled                     bool\n",
       "video_error_or_removed               bool\n",
       "description                        object\n",
       "publish_date               datetime64[ns]\n",
       "time_to_trend             timedelta64[ns]\n",
       "Tag_count                           int64\n",
       "dtype: object"
      ]
     },
     "execution_count": 52,
     "metadata": {},
     "output_type": "execute_result"
    }
   ],
   "source": [
    "df.dtypes"
   ]
  },
  {
   "cell_type": "code",
   "execution_count": 53,
   "metadata": {},
   "outputs": [],
   "source": [
    "#converting id column of categories to int to merge with the original dataframe\n",
    "categories['id']=categories['id'].astype('int')"
   ]
  },
  {
   "cell_type": "code",
   "execution_count": 54,
   "metadata": {},
   "outputs": [
    {
     "data": {
      "text/plain": [
       "id           int64\n",
       "category    object\n",
       "dtype: object"
      ]
     },
     "execution_count": 54,
     "metadata": {},
     "output_type": "execute_result"
    }
   ],
   "source": [
    "#id column has been converted into integer\n",
    "categories.dtypes"
   ]
  },
  {
   "cell_type": "code",
   "execution_count": 55,
   "metadata": {},
   "outputs": [],
   "source": [
    "#adding categories column to the main dataframe \"df\"\n",
    "df=pd.merge(left=df,right=categories,left_on='category_id',right_on='id')"
   ]
  },
  {
   "cell_type": "code",
   "execution_count": 56,
   "metadata": {},
   "outputs": [],
   "source": [
    "#dropping id column from main dataframe\n",
    "df=df.drop('id',axis=1)"
   ]
  },
  {
   "cell_type": "markdown",
   "metadata": {},
   "source": [
    "## Creating \"likeability ratio\""
   ]
  },
  {
   "cell_type": "markdown",
   "metadata": {},
   "source": [
    "We have created a new variable called \"likeability ratio\" which is the ratio of the number of likes to the number of dislikes. To analyse the hypothesis that does more likes account for more views, in order to achieve that we are taking into account likeability ratio."
   ]
  },
  {
   "cell_type": "code",
   "execution_count": 57,
   "metadata": {},
   "outputs": [],
   "source": [
    "df['likeability_ratio']=df['likes']/df['dislikes'].replace(0,1)"
   ]
  },
  {
   "cell_type": "code",
   "execution_count": 58,
   "metadata": {},
   "outputs": [
    {
     "data": {
      "text/html": [
       "<div>\n",
       "<style scoped>\n",
       "    .dataframe tbody tr th:only-of-type {\n",
       "        vertical-align: middle;\n",
       "    }\n",
       "\n",
       "    .dataframe tbody tr th {\n",
       "        vertical-align: top;\n",
       "    }\n",
       "\n",
       "    .dataframe thead th {\n",
       "        text-align: right;\n",
       "    }\n",
       "</style>\n",
       "<table border=\"1\" class=\"dataframe\">\n",
       "  <thead>\n",
       "    <tr style=\"text-align: right;\">\n",
       "      <th></th>\n",
       "      <th>Country</th>\n",
       "      <th>video_id</th>\n",
       "      <th>trending_date</th>\n",
       "      <th>title</th>\n",
       "      <th>channel_title</th>\n",
       "      <th>category_id</th>\n",
       "      <th>publish_time</th>\n",
       "      <th>tags</th>\n",
       "      <th>views</th>\n",
       "      <th>likes</th>\n",
       "      <th>...</th>\n",
       "      <th>thumbnail_link</th>\n",
       "      <th>comments_disabled</th>\n",
       "      <th>ratings_disabled</th>\n",
       "      <th>video_error_or_removed</th>\n",
       "      <th>description</th>\n",
       "      <th>publish_date</th>\n",
       "      <th>time_to_trend</th>\n",
       "      <th>Tag_count</th>\n",
       "      <th>category</th>\n",
       "      <th>likeability_ratio</th>\n",
       "    </tr>\n",
       "  </thead>\n",
       "  <tbody>\n",
       "    <tr>\n",
       "      <th>381</th>\n",
       "      <td>US</td>\n",
       "      <td>3rhw4KgcvFM</td>\n",
       "      <td>2018-02-05</td>\n",
       "      <td>First Responders Arrive To The Collapsed Floor...</td>\n",
       "      <td>9-1-1 on FOX</td>\n",
       "      <td>24</td>\n",
       "      <td>02:00:20</td>\n",
       "      <td>9-1-1|\"first responders\"|\"police\"|\"firefighter...</td>\n",
       "      <td>1426</td>\n",
       "      <td>14</td>\n",
       "      <td>...</td>\n",
       "      <td>https://i.ytimg.com/vi/3rhw4KgcvFM/default.jpg</td>\n",
       "      <td>False</td>\n",
       "      <td>False</td>\n",
       "      <td>False</td>\n",
       "      <td>First responders arrive to a collapsed floor d...</td>\n",
       "      <td>2018-02-01</td>\n",
       "      <td>4 days</td>\n",
       "      <td>36</td>\n",
       "      <td>Entertainment</td>\n",
       "      <td>14.0</td>\n",
       "    </tr>\n",
       "    <tr>\n",
       "      <th>8784</th>\n",
       "      <td>US</td>\n",
       "      <td>3rhw4KgcvFM</td>\n",
       "      <td>2018-02-04</td>\n",
       "      <td>First Responders Arrive To The Collapsed Floor...</td>\n",
       "      <td>9-1-1 on FOX</td>\n",
       "      <td>24</td>\n",
       "      <td>02:00:20</td>\n",
       "      <td>9-1-1|\"first responders\"|\"police\"|\"firefighter...</td>\n",
       "      <td>1313</td>\n",
       "      <td>12</td>\n",
       "      <td>...</td>\n",
       "      <td>https://i.ytimg.com/vi/3rhw4KgcvFM/default.jpg</td>\n",
       "      <td>False</td>\n",
       "      <td>False</td>\n",
       "      <td>False</td>\n",
       "      <td>First responders arrive to a collapsed floor d...</td>\n",
       "      <td>2018-02-01</td>\n",
       "      <td>3 days</td>\n",
       "      <td>36</td>\n",
       "      <td>Entertainment</td>\n",
       "      <td>12.0</td>\n",
       "    </tr>\n",
       "    <tr>\n",
       "      <th>14211</th>\n",
       "      <td>US</td>\n",
       "      <td>3rhw4KgcvFM</td>\n",
       "      <td>2018-02-03</td>\n",
       "      <td>First Responders Arrive To The Collapsed Floor...</td>\n",
       "      <td>9-1-1 on FOX</td>\n",
       "      <td>24</td>\n",
       "      <td>02:00:20</td>\n",
       "      <td>9-1-1|\"first responders\"|\"police\"|\"firefighter...</td>\n",
       "      <td>1172</td>\n",
       "      <td>12</td>\n",
       "      <td>...</td>\n",
       "      <td>https://i.ytimg.com/vi/3rhw4KgcvFM/default.jpg</td>\n",
       "      <td>False</td>\n",
       "      <td>False</td>\n",
       "      <td>False</td>\n",
       "      <td>First responders arrive to a collapsed floor d...</td>\n",
       "      <td>2018-02-01</td>\n",
       "      <td>2 days</td>\n",
       "      <td>36</td>\n",
       "      <td>Entertainment</td>\n",
       "      <td>12.0</td>\n",
       "    </tr>\n",
       "  </tbody>\n",
       "</table>\n",
       "<p>3 rows × 22 columns</p>\n",
       "</div>"
      ],
      "text/plain": [
       "      Country     video_id trending_date  \\\n",
       "381        US  3rhw4KgcvFM    2018-02-05   \n",
       "8784       US  3rhw4KgcvFM    2018-02-04   \n",
       "14211      US  3rhw4KgcvFM    2018-02-03   \n",
       "\n",
       "                                                   title channel_title  \\\n",
       "381    First Responders Arrive To The Collapsed Floor...  9-1-1 on FOX   \n",
       "8784   First Responders Arrive To The Collapsed Floor...  9-1-1 on FOX   \n",
       "14211  First Responders Arrive To The Collapsed Floor...  9-1-1 on FOX   \n",
       "\n",
       "       category_id publish_time  \\\n",
       "381             24     02:00:20   \n",
       "8784            24     02:00:20   \n",
       "14211           24     02:00:20   \n",
       "\n",
       "                                                    tags  views  likes  ...  \\\n",
       "381    9-1-1|\"first responders\"|\"police\"|\"firefighter...   1426     14  ...   \n",
       "8784   9-1-1|\"first responders\"|\"police\"|\"firefighter...   1313     12  ...   \n",
       "14211  9-1-1|\"first responders\"|\"police\"|\"firefighter...   1172     12  ...   \n",
       "\n",
       "                                       thumbnail_link  comments_disabled  \\\n",
       "381    https://i.ytimg.com/vi/3rhw4KgcvFM/default.jpg              False   \n",
       "8784   https://i.ytimg.com/vi/3rhw4KgcvFM/default.jpg              False   \n",
       "14211  https://i.ytimg.com/vi/3rhw4KgcvFM/default.jpg              False   \n",
       "\n",
       "      ratings_disabled  video_error_or_removed  \\\n",
       "381              False                   False   \n",
       "8784             False                   False   \n",
       "14211            False                   False   \n",
       "\n",
       "                                             description  publish_date  \\\n",
       "381    First responders arrive to a collapsed floor d...    2018-02-01   \n",
       "8784   First responders arrive to a collapsed floor d...    2018-02-01   \n",
       "14211  First responders arrive to a collapsed floor d...    2018-02-01   \n",
       "\n",
       "      time_to_trend Tag_count       category  likeability_ratio  \n",
       "381          4 days        36  Entertainment               14.0  \n",
       "8784         3 days        36  Entertainment               12.0  \n",
       "14211        2 days        36  Entertainment               12.0  \n",
       "\n",
       "[3 rows x 22 columns]"
      ]
     },
     "execution_count": 58,
     "metadata": {},
     "output_type": "execute_result"
    }
   ],
   "source": [
    "#NOTE: for channel_title such '9-1-1 on FOX', '90s Commercials', there are zero dislikes. We need to filter \n",
    "#such records and substitute 1 for 0\n",
    "df[df.channel_title=='9-1-1 on FOX']"
   ]
  },
  {
   "cell_type": "code",
   "execution_count": 59,
   "metadata": {},
   "outputs": [
    {
     "data": {
      "text/html": [
       "<div>\n",
       "<style scoped>\n",
       "    .dataframe tbody tr th:only-of-type {\n",
       "        vertical-align: middle;\n",
       "    }\n",
       "\n",
       "    .dataframe tbody tr th {\n",
       "        vertical-align: top;\n",
       "    }\n",
       "\n",
       "    .dataframe thead th {\n",
       "        text-align: right;\n",
       "    }\n",
       "</style>\n",
       "<table border=\"1\" class=\"dataframe\">\n",
       "  <thead>\n",
       "    <tr style=\"text-align: right;\">\n",
       "      <th></th>\n",
       "      <th>channel_title</th>\n",
       "      <th>likeability_ratio</th>\n",
       "    </tr>\n",
       "  </thead>\n",
       "  <tbody>\n",
       "    <tr>\n",
       "      <th>1852</th>\n",
       "      <td>Kris Wu</td>\n",
       "      <td>59188.692483</td>\n",
       "    </tr>\n",
       "    <tr>\n",
       "      <th>3184</th>\n",
       "      <td>Smyang Piano</td>\n",
       "      <td>1484.472222</td>\n",
       "    </tr>\n",
       "    <tr>\n",
       "      <th>177</th>\n",
       "      <td>Amber Liu</td>\n",
       "      <td>726.046418</td>\n",
       "    </tr>\n",
       "    <tr>\n",
       "      <th>969</th>\n",
       "      <td>Duan Mackenzie</td>\n",
       "      <td>619.420635</td>\n",
       "    </tr>\n",
       "    <tr>\n",
       "      <th>2051</th>\n",
       "      <td>MONSTA X</td>\n",
       "      <td>616.814385</td>\n",
       "    </tr>\n",
       "  </tbody>\n",
       "</table>\n",
       "</div>"
      ],
      "text/plain": [
       "       channel_title  likeability_ratio\n",
       "1852         Kris Wu       59188.692483\n",
       "3184    Smyang Piano        1484.472222\n",
       "177        Amber Liu         726.046418\n",
       "969   Duan Mackenzie         619.420635\n",
       "2051        MONSTA X         616.814385"
      ]
     },
     "execution_count": 59,
     "metadata": {},
     "output_type": "execute_result"
    }
   ],
   "source": [
    "#Likeability ratios of videos belonging to channel titles above 300 on average\n",
    "df_ch_mean=df.groupby('channel_title',as_index=False)['likeability_ratio'].mean()\n",
    "df_ch_mean_subset = df_ch_mean[df_ch_mean['likeability_ratio']>300]\n",
    "df_ch_mean_subset.sort_values('likeability_ratio',ascending=False).head()"
   ]
  },
  {
   "cell_type": "code",
   "execution_count": 60,
   "metadata": {},
   "outputs": [
    {
     "data": {
      "text/html": [
       "<div>\n",
       "<style scoped>\n",
       "    .dataframe tbody tr th:only-of-type {\n",
       "        vertical-align: middle;\n",
       "    }\n",
       "\n",
       "    .dataframe tbody tr th {\n",
       "        vertical-align: top;\n",
       "    }\n",
       "\n",
       "    .dataframe thead th {\n",
       "        text-align: right;\n",
       "    }\n",
       "</style>\n",
       "<table border=\"1\" class=\"dataframe\">\n",
       "  <thead>\n",
       "    <tr style=\"text-align: right;\">\n",
       "      <th></th>\n",
       "      <th>category</th>\n",
       "      <th>likeability_ratio</th>\n",
       "    </tr>\n",
       "  </thead>\n",
       "  <tbody>\n",
       "    <tr>\n",
       "      <th>8</th>\n",
       "      <td>Music</td>\n",
       "      <td>110.808898</td>\n",
       "    </tr>\n",
       "    <tr>\n",
       "      <th>12</th>\n",
       "      <td>Pets &amp; Animals</td>\n",
       "      <td>64.124067</td>\n",
       "    </tr>\n",
       "    <tr>\n",
       "      <th>2</th>\n",
       "      <td>Education</td>\n",
       "      <td>45.686922</td>\n",
       "    </tr>\n",
       "    <tr>\n",
       "      <th>6</th>\n",
       "      <td>Howto &amp; Style</td>\n",
       "      <td>44.502059</td>\n",
       "    </tr>\n",
       "    <tr>\n",
       "      <th>11</th>\n",
       "      <td>People &amp; Blogs</td>\n",
       "      <td>43.187559</td>\n",
       "    </tr>\n",
       "  </tbody>\n",
       "</table>\n",
       "</div>"
      ],
      "text/plain": [
       "          category  likeability_ratio\n",
       "8            Music         110.808898\n",
       "12  Pets & Animals          64.124067\n",
       "2        Education          45.686922\n",
       "6    Howto & Style          44.502059\n",
       "11  People & Blogs          43.187559"
      ]
     },
     "execution_count": 60,
     "metadata": {},
     "output_type": "execute_result"
    }
   ],
   "source": [
    "#Likeability ratios of videos belonging to all categories on average\n",
    "df_cat_mean=df.groupby('category',as_index=False)['likeability_ratio'].mean()\n",
    "df_cat_mean.sort_values('likeability_ratio',ascending=False).head()"
   ]
  },
  {
   "cell_type": "markdown",
   "metadata": {},
   "source": [
    "## Data Visualization\n",
    "\n",
    "We have also done some preliminary analysis of the data to find answers to some of our research questions. "
   ]
  },
  {
   "cell_type": "markdown",
   "metadata": {},
   "source": [
    "### Scatter plot between Tag Count and Likes\n",
    "\n",
    "From the plot below, we find that videos with Tag counts between 4 and 10 have a very high number of likes compared to other Tag count values."
   ]
  },
  {
   "cell_type": "code",
   "execution_count": 61,
   "metadata": {},
   "outputs": [
    {
     "data": {
      "image/png": "[encoded data removed]",
      "text/plain": [
       "<Figure size 432x288 with 1 Axes>"
      ]
     },
     "metadata": {
      "needs_background": "light"
     },
     "output_type": "display_data"
    }
   ],
   "source": [
    "df.plot(kind='scatter',x='Tag_count',y='likes',color='red') #between tag count and time to trend\n",
    "plt.show()"
   ]
  },
  {
   "cell_type": "markdown",
   "metadata": {},
   "source": [
    "### Heatmap of correlations between quantitative variables\n",
    "\n",
    "As can be seen in the heatmap below, the correlation coefficient between views and likes is 0.8, which means there's a strong relationship between the two. This makes sense as we would expect people to watch videos that are widely liked and people to watch and re-watch the videos they like. There are also strong relationships between comment counts and likes, and comments counts and dislikes, which is also expected."
   ]
  },
  {
   "cell_type": "code",
   "execution_count": 62,
   "metadata": {},
   "outputs": [
    {
     "data": {
      "image/png": "[encoded data removed]",
      "text/plain": [
       "<Figure size 1296x1296 with 2 Axes>"
      ]
     },
     "metadata": {
      "needs_background": "light"
     },
     "output_type": "display_data"
    }
   ],
   "source": [
    "#create a heat map of correlations between variables to identify any quantitative relationships\n",
    "\n",
    "f,ax = plt.subplots(figsize=(18, 18))\n",
    "sns.heatmap(df.corr(), annot=True, linewidths=.5, fmt= '.1f',ax=ax)\n",
    "plt.show()"
   ]
  },
  {
   "cell_type": "markdown",
   "metadata": {},
   "source": [
    "### Likeability ratio of different Channel titles and Categories\n",
    "\n",
    "In the bar chart below, we see that the difference in the likeability ratio of the Channel title 'Kris Wu' and the other channel titles which have a likeability ratio above 300 is very large."
   ]
  },
  {
   "cell_type": "code",
   "execution_count": 63,
   "metadata": {},
   "outputs": [
    {
     "data": {
      "text/plain": [
       "<matplotlib.axes._subplots.AxesSubplot at 0x1a25d849e8>"
      ]
     },
     "execution_count": 63,
     "metadata": {},
     "output_type": "execute_result"
    },
    {
     "data": {
      "image/png": "[encoded data removed]",
      "text/plain": [
       "<Figure size 1440x720 with 1 Axes>"
      ]
     },
     "metadata": {
      "needs_background": "light"
     },
     "output_type": "display_data"
    }
   ],
   "source": [
    "# Bar plot to show channel titles having average likeability ratio above 300 and their average likeability ratio values\n",
    "df_ch_mean_subset.plot.bar('channel_title','likeability_ratio',log=True,color='red',figsize=(20,10))"
   ]
  },
  {
   "cell_type": "markdown",
   "metadata": {},
   "source": [
    "From the bar plot below, the likeability ratios of Music category is the highest among all categories."
   ]
  },
  {
   "cell_type": "code",
   "execution_count": 64,
   "metadata": {},
   "outputs": [
    {
     "data": {
      "text/plain": [
       "<matplotlib.axes._subplots.AxesSubplot at 0x1a260bd390>"
      ]
     },
     "execution_count": 64,
     "metadata": {},
     "output_type": "execute_result"
    },
    {
     "data": {
      "image/png": "[encoded data removed]",
      "text/plain": [
       "<Figure size 1440x720 with 1 Axes>"
      ]
     },
     "metadata": {
      "needs_background": "light"
     },
     "output_type": "display_data"
    }
   ],
   "source": [
    "# Bar plot to show categories and their average likeability ratio values\n",
    "df_cat_mean.plot.bar('category','likeability_ratio',log=False,color='red',figsize=(20,10))"
   ]
  },
  {
   "cell_type": "markdown",
   "metadata": {},
   "source": [
    "#### Insights\n",
    "\n",
    "For new Youtube video makers, making videos related to the Music category and Pets & Animals is advisable because they have greater like to dislike ratios."
   ]
  }
 ],
 "metadata": {
  "kernelspec": {
   "display_name": "Python 3",
   "language": "python",
   "name": "python3"
  },
  "language_info": {
   "codemirror_mode": {
    "name": "ipython",
    "version": 3
   },
   "file_extension": ".py",
   "mimetype": "text/x-python",
   "name": "python",
   "nbconvert_exporter": "python",
   "pygments_lexer": "ipython3",
   "version": "3.7.3"
  }
 },
 "nbformat": 4,
 "nbformat_minor": 2
}
